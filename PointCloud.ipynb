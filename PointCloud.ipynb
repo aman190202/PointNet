{
  "nbformat": 4,
  "nbformat_minor": 0,
  "metadata": {
    "colab": {
      "provenance": [],
      "authorship_tag": "ABX9TyOLbijPi4qabSwmQ0gWdDGw",
      "include_colab_link": true
    },
    "kernelspec": {
      "name": "python3",
      "display_name": "Python 3"
    },
    "language_info": {
      "name": "python"
    },
    "accelerator": "GPU",
    "gpuClass": "standard",
    "widgets": {
      "application/vnd.jupyter.widget-state+json": {
        "b72907fa4d9c4cfb9a3ab76fb80b4d99": {
          "model_module": "ipyvolume",
          "model_name": "TransferFunctionWidgetJs3Model",
          "model_module_version": "~0.5.2",
          "state": {
            "_dom_classes": [],
            "_model_module": "ipyvolume",
            "_model_module_version": "~0.5.2",
            "_model_name": "TransferFunctionWidgetJs3Model",
            "_view_count": null,
            "_view_module": "ipyvolume",
            "_view_module_version": "~0.5.2",
            "_view_name": "TransferFunctionView",
            "layout": "IPY_MODEL_6d5b8422c3614f83a8ddd3918aef2836",
            "level1": 0.25,
            "level2": 0.75,
            "level3": 0,
            "opacity1": 0.03,
            "opacity2": 0.03,
            "opacity3": 0,
            "rgba": null,
            "style": "height: 32px; width: 100%;",
            "width1": 0.1,
            "width2": 0.1,
            "width3": 0
          }
        },
        "f955734e789042b5ba531052a5419abf": {
          "model_module": "@jupyter-widgets/controls",
          "model_name": "FloatSliderModel",
          "model_module_version": "1.5.0",
          "state": {
            "_dom_classes": [],
            "_model_module": "@jupyter-widgets/controls",
            "_model_module_version": "1.5.0",
            "_model_name": "FloatSliderModel",
            "_view_count": null,
            "_view_module": "@jupyter-widgets/controls",
            "_view_module_version": "1.5.0",
            "_view_name": "FloatSliderView",
            "continuous_update": true,
            "description": "",
            "description_tooltip": null,
            "disabled": false,
            "layout": "IPY_MODEL_e7ba8cc1e83243eea255611239ef25a7",
            "max": 1,
            "min": 0,
            "orientation": "horizontal",
            "readout": true,
            "readout_format": ".2f",
            "step": 0.001,
            "style": "IPY_MODEL_97ef0941caab4b6d8f757fc5bd983a2f",
            "value": 0.25
          }
        },
        "10a22a9b95914618bf87ba4189b35572": {
          "model_module": "@jupyter-widgets/controls",
          "model_name": "FloatSliderModel",
          "model_module_version": "1.5.0",
          "state": {
            "_dom_classes": [],
            "_model_module": "@jupyter-widgets/controls",
            "_model_module_version": "1.5.0",
            "_model_name": "FloatSliderModel",
            "_view_count": null,
            "_view_module": "@jupyter-widgets/controls",
            "_view_module_version": "1.5.0",
            "_view_name": "FloatSliderView",
            "continuous_update": true,
            "description": "",
            "description_tooltip": null,
            "disabled": false,
            "layout": "IPY_MODEL_869983d6f43b446e802754b05a1f8c62",
            "max": 1,
            "min": 0,
            "orientation": "horizontal",
            "readout": true,
            "readout_format": ".2f",
            "step": 0.001,
            "style": "IPY_MODEL_ff16b7c10b404187bb64727f37b6eb38",
            "value": 0.75
          }
        },
        "9f15171c754948efbd97b8ee421a3db6": {
          "model_module": "@jupyter-widgets/controls",
          "model_name": "FloatSliderModel",
          "model_module_version": "1.5.0",
          "state": {
            "_dom_classes": [],
            "_model_module": "@jupyter-widgets/controls",
            "_model_module_version": "1.5.0",
            "_model_name": "FloatSliderModel",
            "_view_count": null,
            "_view_module": "@jupyter-widgets/controls",
            "_view_module_version": "1.5.0",
            "_view_name": "FloatSliderView",
            "continuous_update": true,
            "description": "",
            "description_tooltip": null,
            "disabled": false,
            "layout": "IPY_MODEL_c61b4bd6dec044698fb585b30be1aa39",
            "max": 1,
            "min": 0,
            "orientation": "horizontal",
            "readout": true,
            "readout_format": ".2f",
            "step": 0.001,
            "style": "IPY_MODEL_e845ec5ae2354f60aebb14ff8ceabd91",
            "value": 0
          }
        },
        "be003835a7c940f0aba93f4b692ccf65": {
          "model_module": "@jupyter-widgets/controls",
          "model_name": "FloatSliderModel",
          "model_module_version": "1.5.0",
          "state": {
            "_dom_classes": [],
            "_model_module": "@jupyter-widgets/controls",
            "_model_module_version": "1.5.0",
            "_model_name": "FloatSliderModel",
            "_view_count": null,
            "_view_module": "@jupyter-widgets/controls",
            "_view_module_version": "1.5.0",
            "_view_name": "FloatSliderView",
            "continuous_update": true,
            "description": "",
            "description_tooltip": null,
            "disabled": false,
            "layout": "IPY_MODEL_c6b58d3f42134e1aa0d11a5bccacca92",
            "max": 0.2,
            "min": 0,
            "orientation": "horizontal",
            "readout": true,
            "readout_format": ".2f",
            "step": 0.001,
            "style": "IPY_MODEL_ce7ff231504a4504bf3cd00dc3bdbd61",
            "value": 0.03
          }
        },
        "02d0549ca4c542af97d38c3ff6a416f5": {
          "model_module": "@jupyter-widgets/controls",
          "model_name": "FloatSliderModel",
          "model_module_version": "1.5.0",
          "state": {
            "_dom_classes": [],
            "_model_module": "@jupyter-widgets/controls",
            "_model_module_version": "1.5.0",
            "_model_name": "FloatSliderModel",
            "_view_count": null,
            "_view_module": "@jupyter-widgets/controls",
            "_view_module_version": "1.5.0",
            "_view_name": "FloatSliderView",
            "continuous_update": true,
            "description": "",
            "description_tooltip": null,
            "disabled": false,
            "layout": "IPY_MODEL_f1c284f61ff04034b66bb0770af19b9e",
            "max": 0.2,
            "min": 0,
            "orientation": "horizontal",
            "readout": true,
            "readout_format": ".2f",
            "step": 0.001,
            "style": "IPY_MODEL_c4bbf1c8cbb84b2b93739a5eff8de699",
            "value": 0.03
          }
        },
        "13febb5f13ae4db68009dd857df09ab3": {
          "model_module": "@jupyter-widgets/controls",
          "model_name": "FloatSliderModel",
          "model_module_version": "1.5.0",
          "state": {
            "_dom_classes": [],
            "_model_module": "@jupyter-widgets/controls",
            "_model_module_version": "1.5.0",
            "_model_name": "FloatSliderModel",
            "_view_count": null,
            "_view_module": "@jupyter-widgets/controls",
            "_view_module_version": "1.5.0",
            "_view_name": "FloatSliderView",
            "continuous_update": true,
            "description": "",
            "description_tooltip": null,
            "disabled": false,
            "layout": "IPY_MODEL_3e5f204897ac4657bc84dc8c8833faa9",
            "max": 0.2,
            "min": 0,
            "orientation": "horizontal",
            "readout": true,
            "readout_format": ".2f",
            "step": 0.001,
            "style": "IPY_MODEL_39ca5794f6704ff19b46f2db9a45a1b7",
            "value": 0.03
          }
        },
        "e7ba8cc1e83243eea255611239ef25a7": {
          "model_module": "@jupyter-widgets/base",
          "model_name": "LayoutModel",
          "model_module_version": "1.2.0",
          "state": {
            "_model_module": "@jupyter-widgets/base",
            "_model_module_version": "1.2.0",
            "_model_name": "LayoutModel",
            "_view_count": null,
            "_view_module": "@jupyter-widgets/base",
            "_view_module_version": "1.2.0",
            "_view_name": "LayoutView",
            "align_content": null,
            "align_items": null,
            "align_self": null,
            "border": null,
            "bottom": null,
            "display": null,
            "flex": null,
            "flex_flow": null,
            "grid_area": null,
            "grid_auto_columns": null,
            "grid_auto_flow": null,
            "grid_auto_rows": null,
            "grid_column": null,
            "grid_gap": null,
            "grid_row": null,
            "grid_template_areas": null,
            "grid_template_columns": null,
            "grid_template_rows": null,
            "height": null,
            "justify_content": null,
            "justify_items": null,
            "left": null,
            "margin": null,
            "max_height": null,
            "max_width": null,
            "min_height": null,
            "min_width": null,
            "object_fit": null,
            "object_position": null,
            "order": null,
            "overflow": null,
            "overflow_x": null,
            "overflow_y": null,
            "padding": null,
            "right": null,
            "top": null,
            "visibility": null,
            "width": null
          }
        },
        "97ef0941caab4b6d8f757fc5bd983a2f": {
          "model_module": "@jupyter-widgets/controls",
          "model_name": "SliderStyleModel",
          "model_module_version": "1.5.0",
          "state": {
            "_model_module": "@jupyter-widgets/controls",
            "_model_module_version": "1.5.0",
            "_model_name": "SliderStyleModel",
            "_view_count": null,
            "_view_module": "@jupyter-widgets/base",
            "_view_module_version": "1.2.0",
            "_view_name": "StyleView",
            "description_width": "",
            "handle_color": null
          }
        },
        "869983d6f43b446e802754b05a1f8c62": {
          "model_module": "@jupyter-widgets/base",
          "model_name": "LayoutModel",
          "model_module_version": "1.2.0",
          "state": {
            "_model_module": "@jupyter-widgets/base",
            "_model_module_version": "1.2.0",
            "_model_name": "LayoutModel",
            "_view_count": null,
            "_view_module": "@jupyter-widgets/base",
            "_view_module_version": "1.2.0",
            "_view_name": "LayoutView",
            "align_content": null,
            "align_items": null,
            "align_self": null,
            "border": null,
            "bottom": null,
            "display": null,
            "flex": null,
            "flex_flow": null,
            "grid_area": null,
            "grid_auto_columns": null,
            "grid_auto_flow": null,
            "grid_auto_rows": null,
            "grid_column": null,
            "grid_gap": null,
            "grid_row": null,
            "grid_template_areas": null,
            "grid_template_columns": null,
            "grid_template_rows": null,
            "height": null,
            "justify_content": null,
            "justify_items": null,
            "left": null,
            "margin": null,
            "max_height": null,
            "max_width": null,
            "min_height": null,
            "min_width": null,
            "object_fit": null,
            "object_position": null,
            "order": null,
            "overflow": null,
            "overflow_x": null,
            "overflow_y": null,
            "padding": null,
            "right": null,
            "top": null,
            "visibility": null,
            "width": null
          }
        },
        "ff16b7c10b404187bb64727f37b6eb38": {
          "model_module": "@jupyter-widgets/controls",
          "model_name": "SliderStyleModel",
          "model_module_version": "1.5.0",
          "state": {
            "_model_module": "@jupyter-widgets/controls",
            "_model_module_version": "1.5.0",
            "_model_name": "SliderStyleModel",
            "_view_count": null,
            "_view_module": "@jupyter-widgets/base",
            "_view_module_version": "1.2.0",
            "_view_name": "StyleView",
            "description_width": "",
            "handle_color": null
          }
        },
        "c61b4bd6dec044698fb585b30be1aa39": {
          "model_module": "@jupyter-widgets/base",
          "model_name": "LayoutModel",
          "model_module_version": "1.2.0",
          "state": {
            "_model_module": "@jupyter-widgets/base",
            "_model_module_version": "1.2.0",
            "_model_name": "LayoutModel",
            "_view_count": null,
            "_view_module": "@jupyter-widgets/base",
            "_view_module_version": "1.2.0",
            "_view_name": "LayoutView",
            "align_content": null,
            "align_items": null,
            "align_self": null,
            "border": null,
            "bottom": null,
            "display": null,
            "flex": null,
            "flex_flow": null,
            "grid_area": null,
            "grid_auto_columns": null,
            "grid_auto_flow": null,
            "grid_auto_rows": null,
            "grid_column": null,
            "grid_gap": null,
            "grid_row": null,
            "grid_template_areas": null,
            "grid_template_columns": null,
            "grid_template_rows": null,
            "height": null,
            "justify_content": null,
            "justify_items": null,
            "left": null,
            "margin": null,
            "max_height": null,
            "max_width": null,
            "min_height": null,
            "min_width": null,
            "object_fit": null,
            "object_position": null,
            "order": null,
            "overflow": null,
            "overflow_x": null,
            "overflow_y": null,
            "padding": null,
            "right": null,
            "top": null,
            "visibility": null,
            "width": null
          }
        },
        "e845ec5ae2354f60aebb14ff8ceabd91": {
          "model_module": "@jupyter-widgets/controls",
          "model_name": "SliderStyleModel",
          "model_module_version": "1.5.0",
          "state": {
            "_model_module": "@jupyter-widgets/controls",
            "_model_module_version": "1.5.0",
            "_model_name": "SliderStyleModel",
            "_view_count": null,
            "_view_module": "@jupyter-widgets/base",
            "_view_module_version": "1.2.0",
            "_view_name": "StyleView",
            "description_width": "",
            "handle_color": null
          }
        },
        "c6b58d3f42134e1aa0d11a5bccacca92": {
          "model_module": "@jupyter-widgets/base",
          "model_name": "LayoutModel",
          "model_module_version": "1.2.0",
          "state": {
            "_model_module": "@jupyter-widgets/base",
            "_model_module_version": "1.2.0",
            "_model_name": "LayoutModel",
            "_view_count": null,
            "_view_module": "@jupyter-widgets/base",
            "_view_module_version": "1.2.0",
            "_view_name": "LayoutView",
            "align_content": null,
            "align_items": null,
            "align_self": null,
            "border": null,
            "bottom": null,
            "display": null,
            "flex": null,
            "flex_flow": null,
            "grid_area": null,
            "grid_auto_columns": null,
            "grid_auto_flow": null,
            "grid_auto_rows": null,
            "grid_column": null,
            "grid_gap": null,
            "grid_row": null,
            "grid_template_areas": null,
            "grid_template_columns": null,
            "grid_template_rows": null,
            "height": null,
            "justify_content": null,
            "justify_items": null,
            "left": null,
            "margin": null,
            "max_height": null,
            "max_width": null,
            "min_height": null,
            "min_width": null,
            "object_fit": null,
            "object_position": null,
            "order": null,
            "overflow": null,
            "overflow_x": null,
            "overflow_y": null,
            "padding": null,
            "right": null,
            "top": null,
            "visibility": null,
            "width": null
          }
        },
        "ce7ff231504a4504bf3cd00dc3bdbd61": {
          "model_module": "@jupyter-widgets/controls",
          "model_name": "SliderStyleModel",
          "model_module_version": "1.5.0",
          "state": {
            "_model_module": "@jupyter-widgets/controls",
            "_model_module_version": "1.5.0",
            "_model_name": "SliderStyleModel",
            "_view_count": null,
            "_view_module": "@jupyter-widgets/base",
            "_view_module_version": "1.2.0",
            "_view_name": "StyleView",
            "description_width": "",
            "handle_color": null
          }
        },
        "f1c284f61ff04034b66bb0770af19b9e": {
          "model_module": "@jupyter-widgets/base",
          "model_name": "LayoutModel",
          "model_module_version": "1.2.0",
          "state": {
            "_model_module": "@jupyter-widgets/base",
            "_model_module_version": "1.2.0",
            "_model_name": "LayoutModel",
            "_view_count": null,
            "_view_module": "@jupyter-widgets/base",
            "_view_module_version": "1.2.0",
            "_view_name": "LayoutView",
            "align_content": null,
            "align_items": null,
            "align_self": null,
            "border": null,
            "bottom": null,
            "display": null,
            "flex": null,
            "flex_flow": null,
            "grid_area": null,
            "grid_auto_columns": null,
            "grid_auto_flow": null,
            "grid_auto_rows": null,
            "grid_column": null,
            "grid_gap": null,
            "grid_row": null,
            "grid_template_areas": null,
            "grid_template_columns": null,
            "grid_template_rows": null,
            "height": null,
            "justify_content": null,
            "justify_items": null,
            "left": null,
            "margin": null,
            "max_height": null,
            "max_width": null,
            "min_height": null,
            "min_width": null,
            "object_fit": null,
            "object_position": null,
            "order": null,
            "overflow": null,
            "overflow_x": null,
            "overflow_y": null,
            "padding": null,
            "right": null,
            "top": null,
            "visibility": null,
            "width": null
          }
        },
        "c4bbf1c8cbb84b2b93739a5eff8de699": {
          "model_module": "@jupyter-widgets/controls",
          "model_name": "SliderStyleModel",
          "model_module_version": "1.5.0",
          "state": {
            "_model_module": "@jupyter-widgets/controls",
            "_model_module_version": "1.5.0",
            "_model_name": "SliderStyleModel",
            "_view_count": null,
            "_view_module": "@jupyter-widgets/base",
            "_view_module_version": "1.2.0",
            "_view_name": "StyleView",
            "description_width": "",
            "handle_color": null
          }
        },
        "3e5f204897ac4657bc84dc8c8833faa9": {
          "model_module": "@jupyter-widgets/base",
          "model_name": "LayoutModel",
          "model_module_version": "1.2.0",
          "state": {
            "_model_module": "@jupyter-widgets/base",
            "_model_module_version": "1.2.0",
            "_model_name": "LayoutModel",
            "_view_count": null,
            "_view_module": "@jupyter-widgets/base",
            "_view_module_version": "1.2.0",
            "_view_name": "LayoutView",
            "align_content": null,
            "align_items": null,
            "align_self": null,
            "border": null,
            "bottom": null,
            "display": null,
            "flex": null,
            "flex_flow": null,
            "grid_area": null,
            "grid_auto_columns": null,
            "grid_auto_flow": null,
            "grid_auto_rows": null,
            "grid_column": null,
            "grid_gap": null,
            "grid_row": null,
            "grid_template_areas": null,
            "grid_template_columns": null,
            "grid_template_rows": null,
            "height": null,
            "justify_content": null,
            "justify_items": null,
            "left": null,
            "margin": null,
            "max_height": null,
            "max_width": null,
            "min_height": null,
            "min_width": null,
            "object_fit": null,
            "object_position": null,
            "order": null,
            "overflow": null,
            "overflow_x": null,
            "overflow_y": null,
            "padding": null,
            "right": null,
            "top": null,
            "visibility": null,
            "width": null
          }
        },
        "39ca5794f6704ff19b46f2db9a45a1b7": {
          "model_module": "@jupyter-widgets/controls",
          "model_name": "SliderStyleModel",
          "model_module_version": "1.5.0",
          "state": {
            "_model_module": "@jupyter-widgets/controls",
            "_model_module_version": "1.5.0",
            "_model_name": "SliderStyleModel",
            "_view_count": null,
            "_view_module": "@jupyter-widgets/base",
            "_view_module_version": "1.2.0",
            "_view_name": "StyleView",
            "description_width": "",
            "handle_color": null
          }
        }
      }
    }
  },
  "cells": [
    {
      "cell_type": "markdown",
      "metadata": {
        "id": "view-in-github",
        "colab_type": "text"
      },
      "source": [
        "<a href=\"https://colab.research.google.com/github/aman190202/PointNet/blob/main/PointCloud.ipynb\" target=\"_parent\"><img src=\"https://colab.research.google.com/assets/colab-badge.svg\" alt=\"Open In Colab\"/></a>"
      ]
    },
    {
      "cell_type": "code",
      "execution_count": 2,
      "metadata": {
        "id": "Ii_kn5-RxcxL",
        "colab": {
          "base_uri": "https://localhost:8080/"
        },
        "outputId": "05d485ab-9617-4072-e5d6-4f35f9f72d70"
      },
      "outputs": [
        {
          "output_type": "stream",
          "name": "stdout",
          "text": [
            "Looking in indexes: https://pypi.org/simple, https://us-python.pkg.dev/colab-wheels/public/simple/\n",
            "Collecting path\n",
            "  Downloading path-16.5.0-py3-none-any.whl (26 kB)\n",
            "Installing collected packages: path\n",
            "Successfully installed path-16.5.0\n"
          ]
        }
      ],
      "source": [
        "import numpy as np\n",
        "import random\n",
        "import math\n",
        "!pip install path\n",
        "from path import Path"
      ]
    },
    {
      "cell_type": "code",
      "source": [
        "!wget http://3dvision.princeton.edu/projects/2014/3DShapeNets/ModelNet10.zip\n",
        "!unzip -q ModelNet10.zip\n",
        "\n",
        "path = Path(\"ModelNet10\")"
      ],
      "metadata": {
        "colab": {
          "base_uri": "https://localhost:8080/"
        },
        "id": "VPsHcNlrP6f9",
        "outputId": "a18e4986-fed9-4228-f825-0f4fe3e46026"
      },
      "execution_count": 3,
      "outputs": [
        {
          "output_type": "stream",
          "name": "stdout",
          "text": [
            "--2022-11-28 16:53:42--  http://3dvision.princeton.edu/projects/2014/3DShapeNets/ModelNet10.zip\n",
            "Resolving 3dvision.princeton.edu (3dvision.princeton.edu)... 128.112.136.74\n",
            "Connecting to 3dvision.princeton.edu (3dvision.princeton.edu)|128.112.136.74|:80... connected.\n",
            "HTTP request sent, awaiting response... 302 Found\n",
            "Location: https://3dvision.princeton.edu/projects/2014/3DShapeNets/ModelNet10.zip [following]\n",
            "--2022-11-28 16:53:43--  https://3dvision.princeton.edu/projects/2014/3DShapeNets/ModelNet10.zip\n",
            "Connecting to 3dvision.princeton.edu (3dvision.princeton.edu)|128.112.136.74|:443... connected.\n",
            "HTTP request sent, awaiting response... 200 OK\n",
            "Length: 473402300 (451M) [application/zip]\n",
            "Saving to: ‘ModelNet10.zip’\n",
            "\n",
            "ModelNet10.zip      100%[===================>] 451.47M  12.8MB/s    in 37s     \n",
            "\n",
            "2022-11-28 16:54:21 (12.3 MB/s) - ‘ModelNet10.zip’ saved [473402300/473402300]\n",
            "\n"
          ]
        }
      ]
    },
    {
      "cell_type": "code",
      "source": [
        "def read_off(file):\n",
        "  if 'OFF' !=file.readline().strip():\n",
        "    raise('Not a valid OFF header')\n",
        "  n_verts, n_faces, __ = tuple([int(s) for s in file.readline().strip().split(' ')])\n",
        "  verts = [[float(s) for s in file.readline().strip().split(' ')] for i_vert in range(n_verts)]\n",
        "  faces = [[int(s) for s in file.readline().strip().split(' ')][1:] for i_face in range(n_faces)]\n",
        "  return verts, faces\n",
        "\n",
        "with open(path/\"bed/train/bed_0003.off\",'r') as f:\n",
        "  mesh = read_off(f)"
      ],
      "metadata": {
        "id": "DTAy-ViGRJeR"
      },
      "execution_count": 4,
      "outputs": []
    },
    {
      "cell_type": "code",
      "source": [
        "import plotly.graph_objects as go"
      ],
      "metadata": {
        "id": "Rt0ymWYuT8Ro"
      },
      "execution_count": 5,
      "outputs": []
    },
    {
      "cell_type": "code",
      "source": [
        "x_data = []\n",
        "y_data = []\n",
        "z_data = []\n",
        "for i in mesh[0]:\n",
        "  x_data.append(i[0])\n",
        "  y_data.append(i[1])\n",
        "  z_data.append(i[2])\n",
        "\n",
        "fig = go.Figure(data=[go.Mesh3d( \n",
        "  x=x_data, y=y_data, z=z_data, color='blue', opacity=0.70)]) \n",
        "fig.show()"
      ],
      "metadata": {
        "colab": {
          "base_uri": "https://localhost:8080/",
          "height": 542
        },
        "id": "aObEup9hUB9s",
        "outputId": "f7abe9c4-3651-4433-ce25-69f10f12ccce"
      },
      "execution_count": 6,
      "outputs": [
        {
          "output_type": "display_data",
          "data": {
            "text/html": [
              "<html>\n",
              "<head><meta charset=\"utf-8\" /></head>\n",
              "<body>\n",
              "    <div>            <script src=\"https://cdnjs.cloudflare.com/ajax/libs/mathjax/2.7.5/MathJax.js?config=TeX-AMS-MML_SVG\"></script><script type=\"text/javascript\">if (window.MathJax) {MathJax.Hub.Config({SVG: {font: \"STIX-Web\"}});}</script>                <script type=\"text/javascript\">window.PlotlyConfig = {MathJaxConfig: 'local'};</script>\n",
              "        <script src=\"https://cdn.plot.ly/plotly-2.8.3.min.js\"></script>                <div id=\"40b0aba6-d273-4d2d-b7b4-179919158bb3\" class=\"plotly-graph-div\" style=\"height:525px; width:100%;\"></div>            <script type=\"text/javascript\">                                    window.PLOTLYENV=window.PLOTLYENV || {};                                    if (document.getElementById(\"40b0aba6-d273-4d2d-b7b4-179919158bb3\")) {                    Plotly.newPlot(                        \"40b0aba6-d273-4d2d-b7b4-179919158bb3\",                        [{\"color\":\"blue\",\"opacity\":0.7,\"x\":[19.29135,18.503948,19.29135,18.503948,19.29135,17.71655,17.71655,16.92915,16.92915,16.92915,16.92915,16.92915,16.92915,16.92915,19.29135,17.71655,16.92915,16.92915,17.71655,17.71655,16.92915,16.92915,16.92915,17.71655,18.503948,19.29135,16.92915,19.29135,16.92915,19.29135,16.92915,16.92915,16.92915,16.92915,18.503948,19.29135,19.29135,19.29135,19.29135,19.29135,19.29135,19.29135,19.29135,19.29135,19.29135,19.29135,19.29135,19.29135,16.92915,19.29135,19.29135,16.92915,16.92915,16.92915,19.29135,19.29135,16.92915,16.92915,16.92915,16.92915,16.92915,16.92915,16.92915,16.92915,-16.92915,-16.92915,-16.92915,-16.92915,16.92915,16.92915,16.92915,16.92915,16.92915,16.92915,16.92915,16.92915,-16.92915,-16.92915,-16.92915,-16.92915,16.92915,16.92915,16.92915,16.92915,16.92915,16.92915,16.92915,16.92915,16.92915,16.92915,16.92915,16.92915,16.92915,16.92915,16.92915,16.92915,16.92915,16.92915,16.92915,16.92915,16.92915,16.92915,16.92915,17.71655,17.71655,16.92915,15.74804,-16.92915,-15.74805,-16.92915,-17.71655,-17.71655,-17.71655,-17.71655,-16.92915,-16.92915,-15.74805,15.74804,16.92915,16.92915,17.71655,17.71655,17.71655,17.71655,17.71655,17.71655,17.71655,17.71655,17.71655,17.71655,17.71655,18.503948,18.503948,17.71655,17.71655,17.71655,18.503948,18.503948,18.503948,18.503948,18.503948,18.503948,18.503948,18.503948,18.503948,18.503948,17.71655,18.503948,18.503948,17.71655,17.71655,17.71655,18.503948,18.503948,17.71655,17.71655,17.71655,17.71655,17.71655,17.71655,17.71655,17.71655,16.92915,16.92915,16.92915,16.92915,16.92915,16.92915,16.92915,16.92915,16.92915,16.92915,16.92915,16.92915,-16.92915,-16.92915,-16.92915,-16.92915,16.92915,16.92915,16.92915,16.92915,16.92915,19.29135,19.29135,16.92915,16.92915,16.92915,19.29135,19.29135,16.92915,19.29135,16.92915,19.29135,16.92915,16.92915,16.92915,16.92915,16.92915,16.92915,16.92915,16.92915,19.29135,16.92915,16.92915,16.92915,16.92915,16.92915,19.29135,16.92915,-16.92915,16.92915,16.92915,-16.92915,-16.92915,-16.92915,16.92915,16.92915,-16.92915,-16.92915,-16.92915,-16.92915,-16.92915,-16.92915,-16.92915,-16.92915,-17.71655,-18.50395,-17.71655,-16.92915,-19.29135,-16.92915,-17.71655,-18.50395,-19.29135,-16.92915,-17.71655,-16.92915,-17.71655,-17.71655,-16.92915,-19.29135,-18.50395,-18.50395,-19.29135,-16.92915,-16.92915,16.92915,16.92915,-16.92915,-16.92915,-16.92915,16.92915,16.92915,-16.92915,-16.92915,-16.92915,-16.92915,16.92915,15.15749,16.92915,15.06254,14.96064,-16.92915,15.23903,15.3016,15.34093,15.35434,14.85874,11.02363,14.76379,14.68225,14.61969,14.58036,14.56694,11.12553,11.22048,11.30202,11.36459,11.40392,11.41733,10.92174,7.08665,10.82678,10.74525,10.68268,10.64335,10.62993,7.18855,7.28345,7.36505,7.42755,7.46695,7.48035,6.98475,3.14965,6.88975,6.80825,6.74565,6.70635,6.69295,3.25155,3.34645,3.42805,3.49055,3.52995,3.54335,3.04775,-0.78735,2.95275,2.87125,2.80865,2.76935,2.75595,-0.68545,-0.59055,-0.50905,-0.44645,-0.40715,-0.39365,-0.88925,-0.98425,-4.72435,-1.06575,-1.12835,-1.16765,-1.18105,-4.62255,-4.52755,-4.44605,-4.38345,-4.34415,-4.33065,-4.82625,-4.92125,-8.66145,-5.00275,-5.06535,-5.10465,-5.11815,-8.55955,-8.46455,-8.38305,-8.32045,-8.28115,-8.26775,-8.76335,-8.85825,-8.93975,-12.59845,-9.00235,-9.04165,-9.05515,-12.49655,-12.40155,-12.32005,-12.25745,-12.21815,-12.20475,-12.70035,-12.79525,-12.87685,-12.93935,-12.97865,-15.35435,-15.25245,-12.99215,-15.15745,-15.07595,-15.01335,-14.97405,-14.96065,-15.45625,-15.55115,-15.63275,-15.69525,-15.73465,-15.74805,14.96064,-16.92915,15.06254,15.15749,15.23903,15.3016,15.34093,14.85874,11.02363,14.76379,14.68225,14.61969,14.58036,11.12553,11.22048,11.30202,11.36459,11.40392,10.92174,7.08665,10.82678,10.74525,10.68268,10.64335,7.18855,7.28345,7.36505,7.42755,7.46695,6.98475,3.14965,6.88975,6.80825,6.74565,6.70635,3.25155,3.34645,3.42805,3.49055,3.52995,3.04775,-0.78735,2.95275,2.87125,2.80865,2.76935,-0.68545,-0.59055,-0.50905,-0.44645,-0.40715,-0.88925,-0.98425,-4.72435,-1.06575,-1.12835,-1.16765,-4.62255,-4.52755,-4.44605,-4.38345,-4.34415,-4.82625,-4.92125,-8.66145,-5.00275,-5.06535,-5.10465,-8.55955,-8.46455,-8.38305,-8.32045,-8.28115,-8.76335,-8.85825,-8.93975,-12.59845,-9.00235,-9.04165,-12.49655,-12.40155,-12.32005,-12.25745,-12.21815,-12.70035,-12.79525,-12.87685,-12.93935,-12.97865,-15.35435,-15.25245,-15.15745,-15.07595,-15.01335,-14.97405,-15.45625,-15.55115,-15.63275,-15.69525,-15.73465,-16.92915,-15.74805,-16.92915,-15.73465,-15.69525,-15.63275,-15.55115,-15.45625,-15.35435,-14.96065,-12.99215,-14.97405,-15.01335,-15.07595,-15.15745,-15.25245,-12.97865,-12.93935,-12.87685,-12.79525,-12.70035,-12.59845,-12.20475,-9.05515,-12.21815,-12.25745,-12.32005,-12.40155,-12.49655,-9.04165,-9.00235,-8.93975,-8.85825,-8.76335,-8.66145,-8.26775,-5.11815,-8.28115,-8.32045,-8.38305,-8.46455,-8.55955,-5.10465,-5.06535,-5.00275,-4.92125,-4.82625,-4.72435,-4.33065,-1.18105,-4.34415,-4.38345,-4.44605,-4.52755,-4.62255,-1.16765,-1.12835,-1.06575,-0.98425,-0.88925,-0.78735,-0.39365,2.75595,-0.40715,-0.44645,-0.50905,-0.59055,-0.68545,2.76935,2.80865,2.87125,2.95275,3.04775,3.14965,3.54335,6.69295,3.52995,3.49055,3.42805,3.34645,3.25155,6.70635,6.74565,6.80825,6.88975,6.98475,7.08665,7.48035,10.62993,7.46695,7.42755,7.36505,7.28345,7.18855,10.64335,10.68268,10.74525,10.82678,10.92174,11.02363,11.41733,14.56694,11.40392,11.36459,11.30202,11.22048,11.12553,14.58036,14.61969,14.68225,14.76379,14.85874,14.96064,15.35434,16.92915,15.34093,15.3016,15.23903,15.15749,15.06254,-15.73465,-15.69525,-15.63275,-15.55115,-15.45625,-15.35435,-14.97405,-15.01335,-15.07595,-15.15745,-15.25245,-12.97865,-12.93935,-12.87685,-12.79525,-12.70035,-12.59845,-12.21815,-12.25745,-12.32005,-12.40155,-12.49655,-9.04165,-9.00235,-8.93975,-8.85825,-8.76335,-8.66145,-8.28115,-8.32045,-8.38305,-8.46455,-8.55955,-5.10465,-5.06535,-5.00275,-4.92125,-4.82625,-4.72435,-4.34415,-4.38345,-4.44605,-4.52755,-4.62255,-1.16765,-1.12835,-1.06575,-0.98425,-0.88925,-0.78735,-0.40715,-0.44645,-0.50905,-0.59055,-0.68545,2.76935,2.80865,2.87125,2.95275,3.04775,3.14965,3.52995,3.49055,3.42805,3.34645,3.25155,6.70635,6.74565,6.80825,6.88975,6.98475,7.08665,7.46695,7.42755,7.36505,7.28345,7.18855,10.64335,10.68268,10.74525,10.82678,10.92174,11.02363,11.40392,11.36459,11.30202,11.22048,11.12553,14.58036,14.61969,14.68225,14.76379,14.85874,14.96064,15.34093,15.3016,15.23903,15.15749,16.92915,15.06254,-16.92915,16.92915,16.92915,-16.92915,-16.92915,-16.92915,16.92915,16.92915,-16.92915,-16.92915,-16.92915,-16.92915,-16.92915,-16.92915,-16.92915,-16.92915,-16.92915,-16.92915,-16.92915,-16.92915,-16.92915,-16.92915,-16.92915,-16.92915,16.92915,16.92915,16.92915,16.92915,-16.92915,16.92915,16.92915,-16.92915,-16.92915,-16.92915,16.92915,16.92915,16.92915,16.92915,16.92915,16.92915,16.92915,16.92915,16.92915,16.92915,16.92915,15.74804,16.92915,15.74804,15.74804,15.74804,16.92915,15.74804,15.74804,16.92915,16.92915,15.74804,-16.92915,16.92915,15.74804,-15.74805,-15.74805,-16.92915,16.92915,-15.74805,-16.92915,-15.74805,15.74804,-16.92915,15.74804,16.92915,-16.92915,16.92915,16.92915,-16.92915,-16.92915,-16.92915,16.92915,16.92915,-17.71655,-17.71655,-17.71655,-17.71655,-17.71655,-17.71655,-17.71655,-17.71655,15.74804,-15.74805,15.74804,-15.74805,-15.74805,15.74804,-15.74805,15.74804,-15.74805,15.74804,-15.74805,15.74804,17.71655,18.503948,17.71655,16.92915,16.92915,18.503948,19.29135,19.29135,16.92915,16.92915,16.92915,16.92915,17.71655,16.92915,17.71655,16.92915,17.71655,16.92915,17.71655,16.92915,18.503948,19.29135,16.92915,16.92915,16.92915,19.29135,16.92915,18.503948,-16.92915,-16.92915,-16.92915,-16.92915,-19.29135,-18.50395,-16.92915,-19.29135,-18.50395,-17.71655,-17.71655,-16.92915,-16.92915,-16.92915,-16.92915,-17.71655,-17.71655,-17.71655,-16.92915,-17.71655,-18.50395,-16.92915,-16.92915,-19.29135,-16.92915,-16.92915,-18.50395,-19.29135,-16.92915,16.92915,16.92915,-16.92915,-16.92915,-16.92915,16.92915,16.92915,-16.92915,16.92915,16.92915,-16.92915,-16.92915,-16.92915,16.92915,16.92915,-16.92915,-16.92915,-16.92915,-16.92915,-16.92915,-16.92915,-16.92915,-16.92915,-16.92915,-16.92915,-16.92915,-16.92915,-16.92915,-16.92915,-16.92915,-16.92915,-16.92915,-16.92915,-16.92915,-16.92915,-16.92915,-16.92915,-16.92915,-16.92915,-19.29135,-16.92915,-19.29135,-16.92915,-16.92915,-19.29135,-16.92915,-19.29135,-19.29135,-16.92915,-16.92915,-19.29135,-19.29135,-19.29135,-16.92915,-16.92915,-19.29135,-19.29135,-19.29135,-19.29135,-19.29135,-19.29135,-19.29135,-19.29135,-19.29135,-16.92915,-16.92915,-19.29135,-19.29135,-19.29135,-16.92915,-16.92915,-16.92915,-16.92915,-17.71655,-17.71655,-17.71655,-17.71655,-18.50395,-17.71655,-17.71655,-18.50395,-18.50395,-18.50395,-17.71655,-17.71655,-18.50395,-18.50395,-18.50395,-18.50395,-18.50395,-18.50395,-18.50395,-18.50395,-18.50395,-17.71655,-17.71655,-18.50395,-18.50395,-18.50395,-17.71655,-17.71655,16.92915,-15.74805,15.74804,-16.92915,-16.92915,16.92915,-15.74805,15.74804,-16.92915,16.92915,-16.92915,16.92915,16.92915,-16.92915,16.92915,-16.92915,15.74804,-16.92915,16.92915,-15.74805,-15.74805,15.74804,-16.92915,16.92915,15.74804,15.74804,15.74804,15.74804,15.74804,15.74804,15.74804,15.74804,15.74804,15.74804,-15.74805,-16.92915,-16.92915,-15.74805,-15.74805,-15.74805,-15.74805,-16.92915,-15.74805,-16.92915,-15.74805,-15.74805,-15.74805,-15.74805,-15.74805,-15.74805,-15.74805,-15.74805,-15.74805,-15.74805,-15.74805,15.74804,15.74804,-15.74805,-15.74805,-15.74805,15.74804,15.74804,-15.74805,15.74804,15.74804,-15.74805,-15.74805,-15.74805,15.74804,15.74804,19.29135,19.29135,19.29135,19.29135,19.29135,19.29135,19.29135,19.29135,16.92915,19.29135,19.29135,16.92915,16.92915,16.92915,19.29135,19.29135,16.92915,16.92915,16.92915,16.92915,16.92915,16.92915,16.92915,16.92915,16.92915,16.92915,16.92915,16.92915,16.92915,16.92915,16.92915,16.92915,16.92915,16.92915,16.92915,16.92915,16.92915,16.92915,16.92915,16.92915,16.92915,16.92915,16.92915,16.92915,16.92915,16.92915,16.92915,16.92915,16.92915,16.92915,16.92915,16.92915,16.92915,16.92915,16.92915,16.92915,16.92915,16.92915,16.92915,16.92915,16.92915,16.92915,16.92915,16.92915,16.92915,16.92915,16.92915,19.29135,19.29135,16.92915,16.92915,16.92915,19.29135,19.29135,-16.92915,16.92915,16.92915,-16.92915,-16.92915,-16.92915,16.92915,16.92915,-16.92915,-16.92915,-16.92915,-16.92915,-16.92915,-16.92915,-16.92915,-16.92915,-16.92915,-16.92915,-16.92915,-16.92915,-16.92915,-16.92915,-16.92915,-16.92915,-16.92915,-16.92915,-16.92915,-16.92915,-16.92915,-16.92915,-16.92915,-16.92915,-16.92915,-16.92915,-16.92915,-16.92915,-16.92915,-16.92915,-16.92915,-16.92915,-16.92915,-16.92915,-19.29135,-16.92915,-16.92915,-19.29135,-19.29135,-19.29135,-16.92915,-16.92915,-19.29135,-19.29135,-19.29135,-19.29135,-19.29135,-19.29135,-19.29135,-19.29135,-19.29135,-16.92915,-16.92915,-19.29135,-19.29135,-19.29135,-16.92915,-16.92915,19.29135,16.92915,19.29135,16.92915,16.92915,16.92915,16.92915,16.92915,16.92915,19.29135,16.92915,16.92915,16.92915,16.92915,16.92915,19.29135,-16.92915,16.92915,16.92915,-16.92915,-16.92915,-16.92915,16.92915,16.92915,-16.92915,-16.92915,-16.92915,-16.92915,-16.92915,16.92915,16.92915,-16.92915,-16.92915,-16.92915,16.92915,16.92915,16.92915,16.92915,16.92915,16.92915,16.92915,16.92915,16.92915,16.92915,16.92915,16.92915,16.92915,16.92915,16.92915,16.92915,16.92915,16.92915,-16.92915,16.92915,-16.92915,16.92915,16.92915,-16.92915,16.92915,-16.92915,-16.92915,16.92915,16.92915,-16.92915,-16.92915,-16.92915,16.92915,16.92915,-16.92915,16.92915,16.92915,-16.92915,-16.92915,-16.92915,16.92915,16.92915,-16.92915,16.92915,16.92915,-16.92915,-16.92915,-16.92915,16.92915,16.92915,-16.92915,-16.92915,-16.92915,-16.92915,-19.29135,-16.92915,-19.29135,-16.92915,-16.92915,-19.29135,-19.29135,-16.92915,-15.74805,-16.92915,-16.92915,-15.74805,-15.74805,-15.74805,-16.92915,-16.92915,16.92915,15.74804,-16.92915,16.92915,15.74804,-15.74805,-15.74805,-16.92915,16.92915,-15.74805,-16.92915,-15.74805,15.74804,-16.92915,15.74804,16.92915,15.74804,-16.92915,16.92915,-15.74805,-15.74805,15.74804,-16.92915,16.92915,16.92915,15.74804,16.92915,15.74804,15.74804,16.92915,15.74804,16.92915,16.92915,-15.74805,15.74804,-16.92915,-16.92915,16.92915,-15.74805,15.74804,-15.74805,-15.74805,-15.74805,-15.74805,-15.74805,-15.74805,-15.74805,-15.74805,15.74804,-15.74805,15.74804,-15.74805,-15.74805,15.74804,-15.74805,15.74804,-15.74805,15.74804,15.74804,-15.74805,-15.74805,-15.74805,15.74804,15.74804,15.74804,15.74804,15.74804,15.74804,15.74804,15.74804,15.74804,15.74804,-15.74805,15.74804,15.74804,-15.74805,-15.74805,-15.74805,15.74804,15.74804,14.61969,14.68225,14.68225,14.61969,14.61969,14.61969,14.68225,14.68225,14.76379,14.76379,14.76379,14.76379,14.58036,14.58036,14.58036,14.58036,15.34093,15.34093,15.35434,15.3016,15.3016,15.23903,15.23903,15.15749,15.15749,15.06254,15.06254,14.96064,14.96064,14.85874,14.85874,14.76379,14.76379,14.68225,14.68225,14.61969,14.61969,14.58036,14.58036,14.56694,14.56694,14.58036,14.58036,14.61969,14.61969,14.68225,14.68225,14.76379,14.76379,14.85874,14.85874,14.96064,14.96064,15.06254,15.06254,15.15749,15.15749,15.23903,15.23903,15.3016,15.3016,15.34093,15.34093,15.35434,14.85874,14.85874,14.85874,14.85874,14.56694,14.56694,14.56694,14.56694,15.34093,15.35434,15.35434,15.34093,15.34093,15.34093,15.35434,15.35434,15.34093,15.34093,15.34093,15.34093,15.3016,15.3016,15.3016,15.3016,15.23903,15.23903,15.23903,15.23903,15.15749,15.15749,15.15749,15.15749,15.06254,15.06254,15.06254,15.06254,14.96064,14.96064,14.96064,14.96064,14.58036,14.58036,14.58036,14.58036,14.61969,14.61969,14.61969,14.61969,14.68225,14.68225,14.68225,14.68225,14.76379,14.76379,14.76379,14.76379,14.85874,14.85874,14.85874,14.85874,14.96064,14.96064,14.96064,14.96064,15.06254,15.06254,15.06254,15.06254,15.15749,15.15749,15.15749,15.15749,15.23903,15.23903,15.23903,15.23903,15.3016,15.3016,15.3016,15.3016,-12.93935,-12.97865,-12.97865,-12.93935,-12.93935,-12.93935,-12.97865,-12.97865,-12.87685,-12.87685,-12.87685,-12.87685,-12.21815,-12.21815,-12.20475,-12.25745,-12.25745,-12.32005,-12.32005,-12.40155,-12.40155,-12.49655,-12.49655,-12.59845,-12.59845,-12.70035,-12.70035,-12.79525,-12.79525,-12.87685,-12.87685,-12.93935,-12.93935,-12.97865,-12.97865,-12.99215,-12.99215,-12.97865,-12.97865,-12.93935,-12.93935,-12.87685,-12.87685,-12.79525,-12.79525,-12.70035,-12.70035,-12.59845,-12.59845,-12.49655,-12.49655,-12.40155,-12.40155,-12.32005,-12.32005,-12.25745,-12.25745,-12.21815,-12.21815,-12.20475,-12.99215,-12.99215,-12.99215,-12.99215,-12.79525,-12.79525,-12.79525,-12.79525,-12.87685,-12.79525,-12.87685,-12.79525,-12.79525,-12.87685,-12.79525,-12.87685,-12.93935,-12.93935,-12.93935,-12.93935,-12.97865,-12.97865,-12.97865,-12.97865,-12.70035,-12.70035,-12.70035,-12.70035,-12.59845,-12.59845,-12.59845,-12.59845,-12.49655,-12.49655,-12.49655,-12.49655,-12.40155,-12.40155,-12.40155,-12.40155,-12.32005,-12.32005,-12.32005,-12.32005,-12.25745,-12.25745,-12.25745,-12.25745,-12.21815,-12.21815,-12.21815,-12.21815,-12.20475,-12.20475,-12.20475,-12.20475,-12.21815,-12.21815,-12.21815,-12.21815,-12.25745,-12.25745,-12.25745,-12.25745,-12.32005,-12.32005,-12.32005,-12.32005,-12.40155,-12.40155,-12.40155,-12.40155,-12.49655,-12.49655,-12.49655,-12.49655,-12.59845,-12.59845,-12.59845,-12.59845,-12.70035,-12.70035,-12.70035,-12.70035,-8.76335,-8.85825,-8.76335,-8.85825,-8.85825,-8.76335,-8.85825,-8.76335,-8.66145,-8.66145,-8.66145,-8.66145,-8.28115,-8.28115,-8.26775,-8.32045,-8.32045,-8.38305,-8.38305,-8.46455,-8.46455,-8.55955,-8.55955,-8.66145,-8.66145,-8.76335,-8.76335,-8.85825,-8.85825,-8.93975,-8.93975,-9.00235,-9.00235,-9.04165,-9.04165,-9.05515,-9.05515,-9.04165,-9.04165,-9.00235,-9.00235,-8.93975,-8.93975,-8.85825,-8.85825,-8.76335,-8.76335,-8.66145,-8.66145,-8.55955,-8.55955,-8.46455,-8.46455,-8.38305,-8.38305,-8.32045,-8.32045,-8.28115,-8.28115,-8.26775,-8.93975,-8.93975,-8.93975,-8.93975,-8.55955,-8.55955,-8.55955,-8.55955,-9.05515,-9.04165,-9.04165,-9.05515,-9.05515,-9.05515,-9.04165,-9.04165,-9.04165,-9.04165,-9.04165,-9.04165,-9.00235,-9.00235,-9.00235,-9.00235,-8.46455,-8.46455,-8.46455,-8.46455,-8.38305,-8.38305,-8.38305,-8.38305,-8.32045,-8.32045,-8.32045,-8.32045,-8.28115,-8.28115,-8.28115,-8.28115,-8.26775,-8.26775,-8.26775,-8.26775,-8.28115,-8.28115,-8.28115,-8.28115,-8.32045,-8.32045,-8.32045,-8.32045,-8.38305,-8.38305,-8.38305,-8.38305,-8.46455,-8.46455,-8.46455,-8.46455,-8.55955,-8.55955,-8.55955,-8.55955,-8.66145,-8.66145,-8.66145,-8.66145,-8.76335,-8.76335,-8.76335,-8.76335,-8.85825,-8.85825,-8.85825,-8.85825,-8.93975,-8.93975,-8.93975,-8.93975,-9.00235,-9.00235,-9.00235,-9.00235,-4.44605,-4.38345,-4.38345,-4.44605,-4.44605,-4.44605,-4.38345,-4.38345,-4.34415,-4.34415,-4.34415,-4.34415,-4.34415,-4.34415,-4.33065,-4.38345,-4.38345,-4.44605,-4.44605,-4.52755,-4.52755,-4.62255,-4.62255,-4.72435,-4.72435,-4.82625,-4.82625,-4.92125,-4.92125,-5.00275,-5.00275,-5.06535,-5.06535,-5.10465,-5.10465,-5.11815,-5.11815,-5.10465,-5.10465,-5.06535,-5.06535,-5.00275,-5.00275,-4.92125,-4.92125,-4.82625,-4.82625,-4.72435,-4.72435,-4.62255,-4.62255,-4.52755,-4.52755,-4.44605,-4.44605,-4.38345,-4.38345,-4.34415,-4.34415,-4.33065,-4.52755,-4.52755,-4.52755,-4.52755,-4.33065,-4.33065,-4.33065,-4.33065,-5.11815,-5.10465,-5.10465,-5.11815,-5.11815,-5.11815,-5.10465,-5.10465,-5.10465,-5.10465,-5.10465,-5.10465,-5.06535,-5.06535,-5.06535,-5.06535,-5.00275,-5.00275,-5.00275,-5.00275,-4.92125,-4.92125,-4.92125,-4.92125,-4.82625,-4.82625,-4.82625,-4.82625,-4.72435,-4.72435,-4.72435,-4.72435,-4.62255,-4.62255,-4.62255,-4.62255,-4.34415,-4.34415,-4.34415,-4.34415,-4.38345,-4.38345,-4.38345,-4.38345,-4.44605,-4.44605,-4.44605,-4.44605,-4.52755,-4.52755,-4.52755,-4.52755,-4.62255,-4.62255,-4.62255,-4.62255,-4.72435,-4.72435,-4.72435,-4.72435,-4.82625,-4.82625,-4.82625,-4.82625,-4.92125,-4.92125,-4.92125,-4.92125,-5.00275,-5.00275,-5.00275,-5.00275,-5.06535,-5.06535,-5.06535,-5.06535,2.76935,2.80865,2.80865,2.76935,2.76935,2.76935,2.80865,2.80865,2.75595,2.75595,2.75595,2.75595,3.52995,3.52995,3.54335,3.49055,3.49055,3.42805,3.42805,3.34645,3.34645,3.25155,3.25155,3.14965,3.14965,3.04775,3.04775,2.95275,2.95275,2.87125,2.87125,2.80865,2.80865,2.76935,2.76935,2.75595,2.75595,2.76935,2.76935,2.80865,2.80865,2.87125,2.87125,2.95275,2.95275,3.04775,3.04775,3.14965,3.14965,3.25155,3.25155,3.34645,3.34645,3.42805,3.42805,3.49055,3.49055,3.52995,3.52995,3.54335,2.87125,2.87125,2.87125,2.87125,2.76935,2.76935,2.76935,2.76935,3.04775,2.95275,3.04775,2.95275,2.95275,3.04775,2.95275,3.04775,3.14965,3.14965,3.14965,3.14965,3.25155,3.25155,3.25155,3.25155,3.34645,3.34645,3.34645,3.34645,3.42805,3.42805,3.42805,3.42805,3.49055,3.49055,3.49055,3.49055,3.52995,3.52995,3.52995,3.52995,3.54335,3.54335,3.54335,3.54335,3.52995,3.52995,3.52995,3.52995,3.49055,3.49055,3.49055,3.49055,3.42805,3.42805,3.42805,3.42805,3.34645,3.34645,3.34645,3.34645,3.25155,3.25155,3.25155,3.25155,3.14965,3.14965,3.14965,3.14965,3.04775,3.04775,3.04775,3.04775,2.95275,2.95275,2.95275,2.95275,2.80865,2.80865,2.80865,2.80865,2.87125,2.87125,2.87125,2.87125,6.74565,6.80825,6.80825,6.74565,6.74565,6.74565,6.80825,6.80825,6.70635,6.70635,6.70635,6.70635,7.46695,7.46695,7.48035,7.42755,7.42755,7.36505,7.36505,7.28345,7.28345,7.18855,7.18855,7.08665,7.08665,6.98475,6.98475,6.88975,6.88975,6.80825,6.80825,6.74565,6.74565,6.70635,6.70635,6.69295,6.69295,6.70635,6.70635,6.74565,6.74565,6.80825,6.80825,6.88975,6.88975,6.98475,6.98475,7.08665,7.08665,7.18855,7.18855,7.28345,7.28345,7.36505,7.36505,7.42755,7.42755,7.46695,7.46695,7.48035,6.88975,6.88975,6.88975,6.88975,6.69295,6.69295,6.69295,6.69295,7.36505,7.42755,7.42755,7.36505,7.36505,7.36505,7.42755,7.42755,7.46695,7.46695,7.46695,7.46695,7.48035,7.48035,7.48035,7.48035,7.46695,7.46695,7.46695,7.46695,7.42755,7.42755,7.42755,7.42755,7.36505,7.36505,7.36505,7.36505,7.28345,7.28345,7.28345,7.28345,7.18855,7.18855,7.18855,7.18855,7.08665,7.08665,7.08665,7.08665,6.98475,6.98475,6.98475,6.98475,6.70635,6.70635,6.70635,6.70635,6.74565,6.74565,6.74565,6.74565,6.80825,6.80825,6.80825,6.80825,6.88975,6.88975,6.88975,6.88975,6.98475,6.98475,6.98475,6.98475,7.08665,7.08665,7.08665,7.08665,7.18855,7.18855,7.18855,7.18855,7.28345,7.28345,7.28345,7.28345,-1.18105,-1.16765,-1.16765,-1.18105,-1.18105,-1.18105,-1.16765,-1.16765,-1.16765,-1.16765,-1.16765,-1.16765,-0.40715,-0.40715,-0.39365,-0.44645,-0.44645,-0.50905,-0.50905,-0.59055,-0.59055,-0.68545,-0.68545,-0.78735,-0.78735,-0.88925,-0.88925,-0.98425,-0.98425,-1.06575,-1.06575,-1.12835,-1.12835,-1.16765,-1.16765,-1.18105,-1.18105,-1.16765,-1.16765,-1.12835,-1.12835,-1.06575,-1.06575,-0.98425,-0.98425,-0.88925,-0.88925,-0.78735,-0.78735,-0.68545,-0.68545,-0.59055,-0.59055,-0.50905,-0.50905,-0.44645,-0.44645,-0.40715,-0.40715,-0.39365,-1.12835,-1.12835,-1.12835,-1.12835,-1.12835,-1.12835,-1.12835,-1.12835,-1.06575,-1.06575,-1.06575,-1.06575,-0.98425,-0.98425,-0.98425,-0.98425,-0.88925,-0.88925,-0.88925,-0.88925,-0.78735,-0.78735,-0.78735,-0.78735,-0.68545,-0.68545,-0.68545,-0.68545,-0.59055,-0.59055,-0.59055,-0.59055,-0.50905,-0.50905,-0.50905,-0.50905,-0.44645,-0.44645,-0.44645,-0.44645,-0.40715,-0.40715,-0.40715,-0.40715,-0.39365,-0.39365,-0.39365,-0.39365,-0.40715,-0.40715,-0.40715,-0.40715,-0.44645,-0.44645,-0.44645,-0.44645,-0.50905,-0.50905,-0.50905,-0.50905,-0.59055,-0.59055,-0.59055,-0.59055,-0.68545,-0.68545,-0.68545,-0.68545,-0.78735,-0.78735,-0.78735,-0.78735,-0.88925,-0.88925,-0.88925,-0.88925,-0.98425,-0.98425,-0.98425,-0.98425,-1.06575,-1.06575,-1.06575,-1.06575,11.36459,11.40392,11.40392,11.36459,11.36459,11.36459,11.40392,11.40392,11.41733,11.41733,11.41733,11.41733,11.40392,11.40392,11.41733,11.36459,11.36459,11.30202,11.30202,11.22048,11.22048,11.12553,11.12553,11.02363,11.02363,10.92174,10.92174,10.82678,10.82678,10.74525,10.74525,10.68268,10.68268,10.64335,10.64335,10.62993,10.62993,10.64335,10.64335,10.68268,10.68268,10.74525,10.74525,10.82678,10.82678,10.92174,10.92174,11.02363,11.02363,11.12553,11.12553,11.22048,11.22048,11.30202,11.30202,11.36459,11.36459,11.40392,11.40392,11.41733,11.30202,11.30202,11.30202,11.30202,11.40392,11.40392,11.40392,11.40392,11.36459,11.36459,11.36459,11.36459,11.30202,11.30202,11.30202,11.30202,11.22048,11.22048,11.22048,11.22048,11.12553,11.12553,11.12553,11.12553,11.02363,11.02363,11.02363,11.02363,10.92174,10.92174,10.92174,10.92174,10.82678,10.82678,10.82678,10.82678,10.74525,10.74525,10.74525,10.74525,10.68268,10.68268,10.68268,10.68268,10.64335,10.64335,10.64335,10.64335,10.62993,10.62993,10.62993,10.62993,10.64335,10.64335,10.64335,10.64335,10.68268,10.68268,10.68268,10.68268,10.74525,10.74525,10.74525,10.74525,10.82678,10.82678,10.82678,10.82678,10.92174,10.92174,10.92174,10.92174,11.02363,11.02363,11.02363,11.02363,11.12553,11.12553,11.12553,11.12553,11.22048,11.22048,11.22048,11.22048,-15.07595,-15.01335,-15.01335,-15.07595,-15.07595,-15.07595,-15.01335,-15.01335,-14.97405,-14.97405,-14.97405,-14.97405,-14.97405,-14.97405,-14.96065,-15.01335,-15.01335,-15.07595,-15.07595,-15.15745,-15.15745,-15.25245,-15.25245,-15.35435,-15.35435,-15.45625,-15.45625,-15.55115,-15.55115,-15.63275,-15.63275,-15.69525,-15.69525,-15.73465,-15.73465,-15.74805,-15.74805,-15.73465,-15.73465,-15.69525,-15.69525,-15.63275,-15.63275,-15.55115,-15.55115,-15.45625,-15.45625,-15.35435,-15.35435,-15.25245,-15.25245,-15.15745,-15.15745,-15.07595,-15.07595,-15.01335,-15.01335,-14.97405,-14.97405,-14.96065,-15.15745,-15.15745,-15.15745,-15.15745,-14.96065,-14.96065,-14.96065,-14.96065,-15.74805,-15.73465,-15.73465,-15.74805,-15.74805,-15.74805,-15.73465,-15.73465,-15.73465,-15.73465,-15.73465,-15.73465,-15.69525,-15.69525,-15.69525,-15.69525,-15.63275,-15.63275,-15.63275,-15.63275,-15.55115,-15.55115,-15.55115,-15.55115,-15.45625,-15.45625,-15.45625,-15.45625,-15.35435,-15.35435,-15.35435,-15.35435,-15.25245,-15.25245,-15.25245,-15.25245,-14.97405,-14.97405,-14.97405,-14.97405,-15.01335,-15.01335,-15.01335,-15.01335,-15.07595,-15.07595,-15.07595,-15.07595,-15.15745,-15.15745,-15.15745,-15.15745,-15.25245,-15.25245,-15.25245,-15.25245,-15.35435,-15.35435,-15.35435,-15.35435,-15.45625,-15.45625,-15.45625,-15.45625,-15.55115,-15.55115,-15.55115,-15.55115,-15.63275,-15.63275,-15.63275,-15.63275,-15.69525,-15.69525,-15.69525,-15.69525],\"y\":[39.3701,39.3701,39.3701,39.3701,39.3701,39.3701,39.3701,39.3701,39.3701,39.3701,39.3701,39.3701,39.3701,39.3701,39.3701,39.3701,39.3701,39.3701,39.3701,39.3701,39.3701,39.3701,39.3701,39.3701,39.3701,39.3701,39.3701,39.3701,39.3701,39.3701,39.3701,39.3701,39.3701,39.3701,39.3701,39.3701,39.3701,40.5512,40.5512,39.3701,39.3701,39.3701,39.3701,39.3701,39.3701,39.3701,40.5512,40.5512,40.5512,39.3701,40.5512,39.3701,39.3701,40.5512,39.3701,40.5512,39.3701,40.5512,40.5512,39.3701,39.3701,39.3701,40.5512,40.5512,39.3701,39.3701,39.3701,39.3701,39.3701,40.5512,39.3701,40.5512,39.3701,40.5512,39.3701,40.5512,39.3701,39.3701,39.3701,39.3701,40.157499,40.5512,40.5512,39.3701,39.763798,39.3701,39.3701,39.763798,39.3701,40.157499,40.5512,40.5512,39.3701,39.763798,39.763798,39.3701,39.3701,39.3701,39.3701,39.3701,39.763798,39.763798,-39.3701,39.3701,-39.3701,39.3701,39.3701,-39.3701,39.3701,39.3701,-39.3701,39.3701,39.3701,-39.3701,39.3701,-39.3701,39.3701,39.3701,-39.3701,39.3701,39.3701,-39.3701,-39.3701,39.3701,39.3701,-39.3701,-39.3701,-39.3701,39.3701,39.3701,-39.3701,39.3701,-39.3701,39.3701,39.3701,-39.3701,39.3701,-39.3701,-39.3701,39.3701,39.3701,-39.3701,-39.3701,-39.3701,39.3701,39.3701,39.3701,-39.3701,39.3701,-39.3701,-39.3701,39.3701,-39.3701,39.3701,-39.3701,39.3701,39.3701,-39.3701,-39.3701,-39.3701,39.3701,39.3701,39.3701,40.5512,40.5512,40.157499,39.763798,39.3701,39.3701,39.3701,39.763798,40.157499,40.5512,40.5512,39.3701,39.3701,39.3701,39.3701,39.3701,40.5512,39.3701,40.5512,39.3701,40.5512,39.3701,40.5512,40.5512,39.3701,40.5512,39.3701,40.5512,40.5512,40.5512,40.5512,40.5512,40.5512,40.5512,40.5512,40.5512,40.5512,40.5512,40.5512,40.5512,40.5512,40.5512,40.5512,40.5512,40.5512,40.5512,40.5512,40.5512,39.3701,40.5512,39.3701,39.3701,40.5512,39.3701,40.5512,39.3701,40.5512,40.5512,39.3701,39.3701,39.3701,40.5512,40.5512,39.3701,39.3701,39.3701,39.3701,39.3701,39.3701,39.3701,39.3701,39.3701,39.3701,39.3701,39.3701,39.3701,39.3701,39.3701,39.3701,39.3701,39.3701,39.3701,39.3701,40.5512,39.3701,40.5512,39.3701,39.3701,40.5512,39.3701,40.5512,40.5512,40.5512,40.5512,40.5512,40.5512,40.301604,39.3701,40.340935,40.35435,40.5512,40.239037,40.157499,40.062546,39.960649,40.340935,40.35435,40.301604,40.239037,40.157499,40.062546,39.960649,40.340935,40.301604,40.239037,40.157499,40.062546,39.960649,40.340935,40.35435,40.301604,40.239037,40.157499,40.062546,39.960649,40.340935,40.301604,40.239037,40.157499,40.062546,39.960649,40.340935,40.35435,40.301604,40.239037,40.157499,40.062546,39.960649,40.340935,40.301604,40.239037,40.157499,40.062546,39.960649,40.340935,40.35435,40.301604,40.239037,40.157499,40.062546,39.960649,40.340935,40.301604,40.239037,40.157499,40.062546,39.960649,40.340935,40.301604,40.35435,40.239037,40.157499,40.062546,39.960649,40.340935,40.301604,40.239037,40.157499,40.062546,39.960649,40.340935,40.301604,40.35435,40.239037,40.157499,40.062546,39.960649,40.340935,40.301604,40.239037,40.157499,40.062546,39.960649,40.340935,40.301604,40.239037,40.35435,40.157499,40.062546,39.960649,40.340935,40.301604,40.239037,40.157499,40.062546,39.960649,40.340935,40.301604,40.239037,40.157499,40.062546,40.35435,40.340935,39.960649,40.301604,40.239037,40.157499,40.062546,39.960649,40.340935,40.301604,40.239037,40.157499,40.062546,39.960649,39.566948,39.3701,39.580363,39.619694,39.68226,39.763798,39.858752,39.580363,39.566948,39.619694,39.68226,39.763798,39.858752,39.580363,39.619694,39.68226,39.763798,39.858752,39.580363,39.566948,39.619694,39.68226,39.763798,39.858752,39.580363,39.619694,39.68226,39.763798,39.858752,39.580363,39.566948,39.619694,39.68226,39.763798,39.858752,39.580363,39.619694,39.68226,39.763798,39.858752,39.580363,39.566948,39.619694,39.68226,39.763798,39.858752,39.580363,39.619694,39.68226,39.763798,39.858752,39.580363,39.619694,39.566948,39.68226,39.763798,39.858752,39.580363,39.619694,39.68226,39.763798,39.858752,39.580363,39.619694,39.566948,39.68226,39.763798,39.858752,39.580363,39.619694,39.68226,39.763798,39.858752,39.580363,39.619694,39.68226,39.566948,39.763798,39.858752,39.580363,39.619694,39.68226,39.763798,39.858752,39.580363,39.619694,39.68226,39.763798,39.858752,39.566948,39.580363,39.619694,39.68226,39.763798,39.858752,39.580363,39.619694,39.68226,39.763798,39.858752,40.5512,39.960649,39.3701,39.858752,39.763798,39.68226,39.619694,39.580363,39.566948,39.960649,39.960649,39.858752,39.763798,39.68226,39.619694,39.580363,39.858752,39.763798,39.68226,39.619694,39.580363,39.566948,39.960649,39.960649,39.858752,39.763798,39.68226,39.619694,39.580363,39.858752,39.763798,39.68226,39.619694,39.580363,39.566948,39.960649,39.960649,39.858752,39.763798,39.68226,39.619694,39.580363,39.858752,39.763798,39.68226,39.619694,39.580363,39.566948,39.960649,39.960649,39.858752,39.763798,39.68226,39.619694,39.580363,39.858752,39.763798,39.68226,39.619694,39.580363,39.566948,39.960649,39.960649,39.858752,39.763798,39.68226,39.619694,39.580363,39.858752,39.763798,39.68226,39.619694,39.580363,39.566948,39.960649,39.960649,39.858752,39.763798,39.68226,39.619694,39.580363,39.858752,39.763798,39.68226,39.619694,39.580363,39.566948,39.960649,39.960649,39.858752,39.763798,39.68226,39.619694,39.580363,39.858752,39.763798,39.68226,39.619694,39.580363,39.566948,39.960649,39.960649,39.858752,39.763798,39.68226,39.619694,39.580363,39.858752,39.763798,39.68226,39.619694,39.580363,39.566948,39.960649,39.3701,39.858752,39.763798,39.68226,39.619694,39.580363,40.062546,40.157499,40.239037,40.301604,40.340935,40.35435,40.062546,40.157499,40.239037,40.301604,40.340935,40.062546,40.157499,40.239037,40.301604,40.340935,40.35435,40.062546,40.157499,40.239037,40.301604,40.340935,40.062546,40.157499,40.239037,40.301604,40.340935,40.35435,40.062546,40.157499,40.239037,40.301604,40.340935,40.062546,40.157499,40.239037,40.301604,40.340935,40.35435,40.062546,40.157499,40.239037,40.301604,40.340935,40.062546,40.157499,40.239037,40.301604,40.340935,40.35435,40.062546,40.157499,40.239037,40.301604,40.340935,40.062546,40.157499,40.239037,40.301604,40.340935,40.35435,40.062546,40.157499,40.239037,40.301604,40.340935,40.062546,40.157499,40.239037,40.301604,40.340935,40.35435,40.062546,40.157499,40.239037,40.301604,40.340935,40.062546,40.157499,40.239037,40.301604,40.340935,40.35435,40.062546,40.157499,40.239037,40.301604,40.340935,40.062546,40.157499,40.239037,40.301604,40.340935,40.35435,40.062546,40.157499,40.239037,40.301604,40.5512,40.340935,39.3701,39.763798,39.3701,39.763798,39.763798,39.3701,39.763798,39.3701,40.157499,40.5512,40.5512,39.3701,39.763798,39.3701,39.3701,39.763798,39.3701,40.157499,40.5512,40.5512,40.5512,40.5512,40.5512,40.5512,40.5512,40.157499,40.157499,40.5512,40.157499,40.5512,40.157499,40.5512,40.5512,40.157499,40.5512,40.157499,39.763798,40.157499,40.157499,39.763798,39.763798,39.763798,40.157499,40.157499,39.763798,39.3701,39.763798,39.3701,39.3701,39.3701,39.763798,39.3701,39.3701,39.763798,39.763798,39.763798,39.763798,39.763798,39.763798,39.763798,39.763798,39.763798,39.763798,39.763798,39.763798,39.763798,39.763798,39.763798,39.763798,39.763798,39.763798,39.3701,39.763798,39.3701,39.3701,39.763798,39.3701,39.763798,-39.3701,39.3701,39.3701,-39.3701,-39.3701,-39.3701,39.3701,39.3701,39.3701,39.3701,39.3701,39.3701,39.3701,39.3701,39.3701,39.3701,39.3701,39.3701,39.3701,39.3701,-39.3701,-39.3701,-39.3701,-39.3701,-39.3701,-39.3701,-39.3701,-39.3701,-39.3701,-39.3701,-39.3701,-39.3701,-39.3701,-39.3701,-39.3701,-39.3701,-39.3701,-39.3701,-39.3701,-39.3701,-39.3701,-39.3701,-39.3701,-39.3701,-39.3701,-39.3701,-39.3701,-39.3701,-39.3701,-39.3701,-39.3701,-39.3701,-39.3701,-39.3701,-39.3701,-39.3701,-39.3701,-39.3701,-39.3701,-39.3701,-39.3701,-39.3701,-39.3701,-39.3701,-39.3701,-39.3701,-39.3701,-39.3701,-39.3701,-39.3701,-39.3701,-39.3701,-39.3701,-39.3701,-39.3701,-39.3701,40.157499,39.763798,40.157499,39.763798,39.763798,40.157499,39.763798,40.157499,40.5512,40.157499,40.5512,40.157499,40.157499,40.5512,40.157499,40.5512,40.5512,40.5512,40.5512,40.5512,39.3701,40.5512,40.5512,40.5512,40.157499,39.763798,39.3701,39.3701,39.3701,39.3701,39.3701,39.763798,40.157499,40.5512,40.5512,40.5512,40.5512,39.3701,39.3701,40.5512,40.5512,40.5512,40.5512,40.5512,40.5512,40.5512,40.5512,40.5512,39.3701,40.5512,39.3701,40.5512,40.5512,39.3701,40.5512,39.3701,39.3701,40.5512,40.5512,39.3701,39.3701,39.3701,40.5512,40.5512,39.3701,40.5512,39.3701,40.5512,40.5512,39.3701,40.5512,39.3701,39.3701,39.3701,39.3701,-39.3701,-39.3701,39.3701,-39.3701,39.3701,-39.3701,39.3701,39.3701,-39.3701,39.3701,-39.3701,-39.3701,39.3701,39.3701,-39.3701,-39.3701,-39.3701,39.3701,39.3701,39.3701,-39.3701,39.3701,-39.3701,-39.3701,39.3701,-39.3701,39.3701,39.763798,39.3701,39.3701,39.763798,39.763798,39.763798,39.3701,39.3701,40.157499,40.157499,40.157499,40.157499,40.157499,40.157499,40.157499,40.157499,39.3701,39.763798,39.763798,39.3701,39.3701,39.3701,39.763798,39.763798,39.3701,39.763798,39.763798,39.3701,39.3701,39.3701,39.3701,39.3701,39.763798,39.763798,39.3701,39.763798,39.763798,39.3701,39.3701,39.3701,39.3701,39.763798,39.3701,39.763798,39.3701,39.763798,39.763798,39.3701,39.3701,39.3701,39.3701,39.3701,39.763798,39.763798,39.763798,39.3701,39.763798,39.3701,39.3701,39.763798,39.3701,39.763798,39.3701,39.763798,39.3701,39.763798,39.763798,39.3701,39.763798,39.3701,-40.5512,-39.3701,-39.3701,-40.5512,-40.5512,-40.5512,-39.3701,-39.3701,-40.5512,-39.3701,-40.5512,-39.3701,-39.3701,-40.5512,-39.3701,-40.5512,-40.5512,-39.3701,-39.3701,-40.5512,-40.5512,-40.5512,-39.3701,-39.3701,-40.5512,-39.3701,-39.3701,-39.7638,-40.1575,-40.5512,-40.5512,-40.5512,-40.1575,-39.7638,-39.3701,-39.3701,-39.7638,-39.3701,-39.3701,-39.3701,-39.7638,-39.7638,-39.7638,-39.3701,-39.3701,-39.3701,-39.7638,-39.3701,-39.3701,-40.5512,-40.1575,-40.5512,-40.5512,-40.1575,-40.5512,-39.7638,-39.3701,-39.3701,-40.5512,-39.3701,-39.3701,-40.5512,-40.5512,-40.5512,-39.3701,-39.3701,-39.3701,-40.5512,-39.3701,-40.5512,-40.5512,-39.3701,-40.5512,-39.3701,-39.3701,-39.7638,-39.3701,-39.7638,-39.7638,-39.3701,-39.7638,-39.3701,-39.7638,-39.3701,-39.3701,-39.3701,-39.7638,-39.7638,-39.7638,-39.3701,-39.3701,-39.3701,-40.5512,-39.3701,-39.3701,-40.5512,-40.5512,-40.5512,-39.3701,-39.3701,-40.1575,-40.5512,-40.1575,-40.1575,-40.1575,-40.5512,-39.3701,-40.5512,-40.5512,-40.5512,-40.5512,-39.3701,-39.3701,-40.5512,-40.5512,-39.3701,-40.5512,-39.3701,-40.5512,-39.3701,-39.3701,-40.5512,-39.3701,-40.5512,-40.5512,-39.3701,-39.3701,-40.5512,-40.5512,-40.5512,-39.3701,-39.3701,-39.3701,-40.5512,-39.3701,-40.5512,-40.5512,-39.3701,-40.5512,-39.3701,-40.5512,-40.5512,-40.5512,-40.5512,-40.5512,-40.5512,-40.5512,-40.5512,-40.5512,-40.5512,-40.5512,-40.5512,-40.5512,-40.5512,-40.5512,-40.5512,-40.5512,-39.3701,-40.5512,-39.3701,-39.3701,-40.5512,-39.3701,-40.5512,-40.5512,-40.5512,-40.5512,-40.5512,-40.1575,-40.5512,-40.1575,-40.5512,-40.5512,-40.1575,-40.5512,-40.1575,-40.5512,-40.1575,-40.1575,-40.5512,-40.5512,-40.5512,-40.1575,-40.1575,-40.1575,-39.7638,-39.7638,-40.1575,-40.1575,-40.1575,-39.7638,-39.7638,-39.7638,-39.7638,-39.7638,-39.7638,-39.7638,-39.7638,-39.7638,-39.7638,-39.7638,-39.3701,-39.7638,-39.3701,-39.3701,-39.7638,-39.3701,-39.7638,-39.3701,-40.5512,-39.3701,-40.5512,-40.5512,-39.3701,-40.5512,-39.3701,-40.5512,-40.1575,-40.5512,-40.1575,-40.1575,-40.5512,-40.1575,-40.5512,-40.5512,-40.5512,-40.5512,-40.5512,-40.5512,-40.5512,-40.5512,-40.5512,-40.5512,-40.5512,-40.5512,-40.5512,-40.5512,-40.1575,-40.1575,-40.5512,-40.5512,-40.5512,-40.1575,-40.1575,-40.1575,-40.1575,-40.1575,-40.1575,-40.1575,-40.1575,-40.1575,-40.1575,-40.1575,-40.1575,-40.1575,-40.1575,-40.1575,-40.1575,-40.1575,-40.1575,-40.5512,-40.1575,-40.1575,-40.5512,-40.5512,-40.5512,-40.1575,-40.1575,-40.1575,-40.5512,-40.1575,-40.5512,-40.5512,-40.1575,-40.5512,-40.1575,-40.1575,-40.5512,-40.5512,-40.1575,-40.1575,-40.1575,-40.5512,-40.5512,-40.5512,-40.1575,-40.1575,-40.5512,-40.5512,-40.5512,-40.1575,-40.1575,-40.5512,-40.5512,-40.5512,-40.5512,-40.5512,-40.5512,-40.5512,-40.5512,-40.5512,-40.1575,-40.5512,-40.1575,-40.1575,-40.5512,-40.1575,-40.5512,-40.5512,-40.1575,-40.1575,-40.5512,-40.5512,-40.5512,-40.1575,-40.1575,-40.1575,-40.5512,-40.1575,-40.5512,-40.5512,-40.1575,-40.5512,-40.1575,40.157499,40.239037,40.239037,40.157499,40.157499,40.157499,40.239037,40.239037,40.301604,40.301604,40.301604,40.301604,40.062546,40.062546,40.062546,40.062546,40.062546,39.858752,39.960649,40.157499,39.763798,40.239037,39.68226,40.301604,39.619694,39.580363,40.340935,40.35435,39.566948,40.340935,39.580363,39.619694,40.301604,39.68226,40.239037,40.157499,39.763798,39.858752,40.062546,39.960649,39.960649,40.062546,39.858752,40.157499,39.763798,39.68226,40.239037,40.301604,39.619694,40.340935,39.580363,39.566948,40.35435,39.580363,40.340935,40.301604,39.619694,39.68226,40.239037,39.763798,40.157499,39.858752,40.062546,39.960649,40.340935,40.340935,40.340935,40.340935,39.960649,39.960649,39.960649,39.960649,39.858752,39.960649,39.960649,39.858752,39.858752,39.858752,39.960649,39.960649,40.062546,40.062546,40.062546,40.062546,40.157499,40.157499,40.157499,40.157499,40.239037,40.239037,40.239037,40.239037,40.301604,40.301604,40.301604,40.301604,40.340935,40.340935,40.340935,40.340935,40.35435,40.35435,40.35435,40.35435,39.858752,39.858752,39.858752,39.858752,39.763798,39.763798,39.763798,39.763798,39.68226,39.68226,39.68226,39.68226,39.619694,39.619694,39.619694,39.619694,39.580363,39.580363,39.580363,39.580363,39.566948,39.566948,39.566948,39.566948,39.580363,39.580363,39.580363,39.580363,39.619694,39.619694,39.619694,39.619694,39.68226,39.68226,39.68226,39.68226,39.763798,39.763798,39.763798,39.763798,39.763798,39.858752,39.858752,39.763798,39.763798,39.763798,39.858752,39.858752,39.68226,39.68226,39.68226,39.68226,40.062546,39.858752,39.960649,40.157499,39.763798,40.239037,39.68226,40.301604,39.619694,39.580363,40.340935,40.35435,39.566948,40.340935,39.580363,39.619694,40.301604,40.239037,39.68226,40.157499,39.763798,40.062546,39.858752,39.960649,39.960649,40.062546,39.858752,39.763798,40.157499,39.68226,40.239037,39.619694,40.301604,40.340935,39.580363,39.566948,40.35435,39.580363,40.340935,40.301604,39.619694,39.68226,40.239037,39.763798,40.157499,39.858752,40.062546,39.960649,39.960649,39.960649,39.960649,39.960649,39.619694,39.619694,39.619694,39.619694,40.239037,40.301604,40.239037,40.301604,40.301604,40.239037,40.301604,40.239037,40.157499,40.157499,40.157499,40.157499,40.062546,40.062546,40.062546,40.062546,39.580363,39.580363,39.580363,39.580363,39.566948,39.566948,39.566948,39.566948,39.580363,39.580363,39.580363,39.580363,39.619694,39.619694,39.619694,39.619694,39.68226,39.68226,39.68226,39.68226,39.763798,39.763798,39.763798,39.763798,39.858752,39.858752,39.858752,39.858752,39.960649,39.960649,39.960649,39.960649,40.062546,40.062546,40.062546,40.062546,40.157499,40.157499,40.157499,40.157499,40.239037,40.239037,40.239037,40.239037,40.301604,40.301604,40.301604,40.301604,40.340935,40.340935,40.340935,40.340935,40.35435,40.35435,40.35435,40.35435,40.340935,40.340935,40.340935,40.340935,39.580363,39.619694,39.580363,39.619694,39.619694,39.580363,39.619694,39.580363,39.566948,39.566948,39.566948,39.566948,40.062546,39.858752,39.960649,40.157499,39.763798,40.239037,39.68226,40.301604,39.619694,39.580363,40.340935,40.35435,39.566948,40.340935,39.580363,39.619694,40.301604,39.68226,40.239037,40.157499,39.763798,40.062546,39.858752,39.960649,39.960649,40.062546,39.858752,39.763798,40.157499,39.68226,40.239037,40.301604,39.619694,40.340935,39.580363,39.566948,40.35435,39.580363,40.340935,40.301604,39.619694,39.68226,40.239037,39.763798,40.157499,39.858752,40.062546,39.960649,39.68226,39.68226,39.68226,39.68226,39.580363,39.580363,39.580363,39.580363,39.960649,40.062546,40.062546,39.960649,39.960649,39.960649,40.062546,40.062546,39.858752,39.858752,39.858752,39.858752,39.763798,39.763798,39.763798,39.763798,39.619694,39.619694,39.619694,39.619694,39.68226,39.68226,39.68226,39.68226,39.763798,39.763798,39.763798,39.763798,39.858752,39.858752,39.858752,39.858752,39.960649,39.960649,39.960649,39.960649,40.062546,40.062546,40.062546,40.062546,40.157499,40.157499,40.157499,40.157499,40.239037,40.239037,40.239037,40.239037,40.301604,40.301604,40.301604,40.301604,40.340935,40.340935,40.340935,40.340935,40.35435,40.35435,40.35435,40.35435,40.340935,40.340935,40.340935,40.340935,40.301604,40.301604,40.301604,40.301604,40.239037,40.239037,40.239037,40.239037,40.157499,40.157499,40.157499,40.157499,39.68226,39.763798,39.763798,39.68226,39.68226,39.68226,39.763798,39.763798,39.858752,39.858752,39.858752,39.858752,40.062546,39.858752,39.960649,40.157499,39.763798,40.239037,39.68226,40.301604,39.619694,39.580363,40.340935,40.35435,39.566948,40.340935,39.580363,39.619694,40.301604,39.68226,40.239037,40.157499,39.763798,40.062546,39.858752,39.960649,39.960649,40.062546,39.858752,39.763798,40.157499,39.68226,40.239037,40.301604,39.619694,40.340935,39.580363,39.566948,40.35435,39.580363,40.340935,40.301604,39.619694,39.68226,40.239037,39.763798,40.157499,39.858752,40.062546,39.960649,39.619694,39.619694,39.619694,39.619694,39.960649,39.960649,39.960649,39.960649,39.960649,40.062546,40.062546,39.960649,39.960649,39.960649,40.062546,40.062546,39.858752,39.858752,39.858752,39.858752,39.763798,39.763798,39.763798,39.763798,39.68226,39.68226,39.68226,39.68226,39.619694,39.619694,39.619694,39.619694,39.580363,39.580363,39.580363,39.580363,39.566948,39.566948,39.566948,39.566948,39.580363,39.580363,39.580363,39.580363,40.062546,40.062546,40.062546,40.062546,40.157499,40.157499,40.157499,40.157499,40.239037,40.239037,40.239037,40.239037,40.301604,40.301604,40.301604,40.301604,40.340935,40.340935,40.340935,40.340935,40.35435,40.35435,40.35435,40.35435,40.340935,40.340935,40.340935,40.340935,40.301604,40.301604,40.301604,40.301604,40.239037,40.239037,40.239037,40.239037,40.157499,40.157499,40.157499,40.157499,40.062546,40.157499,40.157499,40.062546,40.062546,40.062546,40.157499,40.157499,39.960649,39.960649,39.960649,39.960649,40.062546,39.858752,39.960649,40.157499,39.763798,40.239037,39.68226,40.301604,39.619694,40.340935,39.580363,40.35435,39.566948,40.340935,39.580363,39.619694,40.301604,39.68226,40.239037,40.157499,39.763798,40.062546,39.858752,39.960649,39.960649,40.062546,39.858752,39.763798,40.157499,39.68226,40.239037,40.301604,39.619694,40.340935,39.580363,39.566948,40.35435,39.580363,40.340935,39.619694,40.301604,39.68226,40.239037,39.763798,40.157499,39.858752,40.062546,39.960649,40.239037,40.239037,40.239037,40.239037,39.858752,39.858752,39.858752,39.858752,39.580363,39.619694,39.580363,39.619694,39.619694,39.580363,39.619694,39.580363,39.566948,39.566948,39.566948,39.566948,39.580363,39.580363,39.580363,39.580363,39.619694,39.619694,39.619694,39.619694,39.68226,39.68226,39.68226,39.68226,39.763798,39.763798,39.763798,39.763798,39.858752,39.858752,39.858752,39.858752,39.960649,39.960649,39.960649,39.960649,40.062546,40.062546,40.062546,40.062546,40.157499,40.157499,40.157499,40.157499,40.239037,40.239037,40.239037,40.239037,40.301604,40.301604,40.301604,40.301604,40.340935,40.340935,40.340935,40.340935,40.35435,40.35435,40.35435,40.35435,40.340935,40.340935,40.340935,40.340935,40.301604,40.301604,40.301604,40.301604,39.763798,39.763798,39.763798,39.763798,39.68226,39.68226,39.68226,39.68226,40.157499,40.239037,40.239037,40.157499,40.157499,40.157499,40.239037,40.239037,40.062546,40.062546,40.062546,40.062546,40.062546,39.858752,39.960649,40.157499,39.763798,40.239037,39.68226,40.301604,39.619694,40.340935,39.580363,40.35435,39.566948,40.340935,39.580363,40.301604,39.619694,40.239037,39.68226,40.157499,39.763798,40.062546,39.858752,39.960649,39.960649,40.062546,39.858752,39.763798,40.157499,39.68226,40.239037,39.619694,40.301604,39.580363,40.340935,39.566948,40.35435,39.580363,40.340935,39.619694,40.301604,39.68226,40.239037,39.763798,40.157499,39.858752,40.062546,39.960649,40.301604,40.301604,40.301604,40.301604,39.960649,39.960649,39.960649,39.960649,39.68226,39.763798,39.763798,39.68226,39.68226,39.68226,39.763798,39.763798,39.858752,39.858752,39.858752,39.858752,39.960649,39.960649,39.960649,39.960649,40.062546,40.062546,40.062546,40.062546,40.157499,40.157499,40.157499,40.157499,40.239037,40.239037,40.239037,40.239037,40.301604,40.301604,40.301604,40.301604,40.340935,40.340935,40.340935,40.340935,40.35435,40.35435,40.35435,40.35435,40.340935,40.340935,40.340935,40.340935,39.858752,39.858752,39.858752,39.858752,39.763798,39.763798,39.763798,39.763798,39.68226,39.68226,39.68226,39.68226,39.619694,39.619694,39.619694,39.619694,39.580363,39.580363,39.580363,39.580363,39.566948,39.566948,39.566948,39.566948,39.580363,39.580363,39.580363,39.580363,39.619694,39.619694,39.619694,39.619694,39.960649,40.062546,40.062546,39.960649,39.960649,39.960649,40.062546,40.062546,39.858752,39.858752,39.858752,39.858752,40.062546,39.858752,39.960649,40.157499,39.763798,40.239037,39.68226,40.301604,39.619694,39.580363,40.340935,40.35435,39.566948,40.340935,39.580363,39.619694,40.301604,39.68226,40.239037,40.157499,39.763798,40.062546,39.858752,39.960649,39.960649,40.062546,39.858752,39.763798,40.157499,39.68226,40.239037,40.301604,39.619694,40.340935,39.580363,39.566948,40.35435,39.580363,40.340935,40.301604,39.619694,39.68226,40.239037,39.763798,40.157499,39.858752,40.062546,39.960649,40.157499,40.157499,40.157499,40.157499,39.763798,39.763798,39.763798,39.763798,39.68226,39.68226,39.68226,39.68226,39.619694,39.619694,39.619694,39.619694,39.580363,39.580363,39.580363,39.580363,39.566948,39.566948,39.566948,39.566948,39.580363,39.580363,39.580363,39.580363,39.619694,39.619694,39.619694,39.619694,39.68226,39.68226,39.68226,39.68226,39.763798,39.763798,39.763798,39.763798,39.858752,39.858752,39.858752,39.858752,39.960649,39.960649,39.960649,39.960649,40.062546,40.062546,40.062546,40.062546,40.157499,40.157499,40.157499,40.157499,40.239037,40.239037,40.239037,40.239037,40.301604,40.301604,40.301604,40.301604,40.340935,40.340935,40.340935,40.340935,40.35435,40.35435,40.35435,40.35435,40.340935,40.340935,40.340935,40.340935,40.301604,40.301604,40.301604,40.301604,40.239037,40.239037,40.239037,40.239037,39.763798,39.858752,39.858752,39.763798,39.763798,39.763798,39.858752,39.858752,39.960649,39.960649,39.960649,39.960649,40.062546,39.858752,39.960649,39.763798,40.157499,40.239037,39.68226,40.301604,39.619694,40.340935,39.580363,40.35435,39.566948,40.340935,39.580363,40.301604,39.619694,40.239037,39.68226,40.157499,39.763798,40.062546,39.858752,39.960649,39.960649,40.062546,39.858752,39.763798,40.157499,39.68226,40.239037,39.619694,40.301604,39.580363,40.340935,39.566948,40.35435,39.580363,40.340935,39.619694,40.301604,39.68226,40.239037,39.763798,40.157499,40.062546,39.858752,39.960649,39.68226,39.68226,39.68226,39.68226,40.062546,40.062546,40.062546,40.062546,40.157499,40.157499,40.157499,40.157499,40.239037,40.239037,40.239037,40.239037,40.301604,40.301604,40.301604,40.301604,40.340935,40.340935,40.340935,40.340935,40.35435,40.35435,40.35435,40.35435,40.340935,40.340935,40.340935,40.340935,40.301604,40.301604,40.301604,40.301604,40.239037,40.239037,40.239037,40.239037,40.157499,40.157499,40.157499,40.157499,40.062546,40.062546,40.062546,40.062546,39.960649,39.960649,39.960649,39.960649,39.858752,39.858752,39.858752,39.858752,39.763798,39.763798,39.763798,39.763798,39.68226,39.68226,39.68226,39.68226,39.619694,39.619694,39.619694,39.619694,39.580363,39.580363,39.580363,39.580363,39.566948,39.566948,39.566948,39.566948,39.580363,39.580363,39.580363,39.580363,39.619694,39.619694,39.619694,39.619694,39.68226,39.763798,39.763798,39.68226,39.68226,39.68226,39.763798,39.763798,39.858752,39.858752,39.858752,39.858752,40.062546,39.858752,39.960649,40.157499,39.763798,40.239037,39.68226,40.301604,39.619694,39.580363,40.340935,40.35435,39.566948,40.340935,39.580363,40.301604,39.619694,39.68226,40.239037,40.157499,39.763798,40.062546,39.858752,39.960649,39.960649,40.062546,39.858752,39.763798,40.157499,39.68226,40.239037,40.301604,39.619694,39.580363,40.340935,39.566948,40.35435,39.580363,40.340935,40.301604,39.619694,39.68226,40.239037,39.763798,40.157499,39.858752,40.062546,39.960649,39.619694,39.619694,39.619694,39.619694,39.960649,39.960649,39.960649,39.960649,39.960649,40.062546,40.062546,39.960649,39.960649,39.960649,40.062546,40.062546,39.858752,39.858752,39.858752,39.858752,39.763798,39.763798,39.763798,39.763798,39.68226,39.68226,39.68226,39.68226,39.619694,39.619694,39.619694,39.619694,39.580363,39.580363,39.580363,39.580363,39.566948,39.566948,39.566948,39.566948,39.580363,39.580363,39.580363,39.580363,40.062546,40.062546,40.062546,40.062546,40.157499,40.157499,40.157499,40.157499,40.239037,40.239037,40.239037,40.239037,40.301604,40.301604,40.301604,40.301604,40.340935,40.340935,40.340935,40.340935,40.35435,40.35435,40.35435,40.35435,40.340935,40.340935,40.340935,40.340935,40.301604,40.301604,40.301604,40.301604,40.239037,40.239037,40.239037,40.239037,40.157499,40.157499,40.157499,40.157499],\"z\":[-8.66145,-18.50394,-18.50394,-8.66145,23.62205,-8.66145,-5.51185,-5.51185,10.62995,12.99215,20.47245,22.83465,23.62205,-23.62205,-23.62205,-18.50394,-18.50394,-16.14173,-5.51185,-8.66145,-5.51185,-16.14173,-18.50394,-18.50394,-18.50394,-18.50394,-23.62205,-23.62205,23.62205,23.62205,22.83465,20.47245,12.99215,10.62995,-8.66145,-8.66145,23.62205,-23.62205,23.62205,-23.62205,-8.66145,-18.50394,-18.50394,-8.66145,-23.62205,23.62205,-23.62205,23.62205,23.62205,23.62205,23.62205,23.62205,23.62205,23.62205,23.62205,23.62205,22.83465,23.62205,22.83465,23.62205,23.62205,22.83465,23.62205,22.83465,20.47245,22.83465,22.83465,20.47245,20.47245,20.47245,20.47245,20.47245,12.99215,12.99215,12.99215,12.99215,10.62995,12.99215,12.99215,10.62995,10.62995,12.99215,10.62995,12.99215,10.62995,10.62995,10.62995,10.62995,12.99215,10.62995,12.99215,10.62995,-16.14173,10.62995,-16.14173,10.62995,-5.51185,-5.51185,-16.14173,10.62995,10.62995,-16.14173,-5.51185,-5.51185,-5.51185,-5.51185,-5.51185,-5.51185,-5.51185,-5.51185,-5.51185,-5.51185,-5.51185,-5.51185,-5.51185,-5.51185,-5.51185,-5.51185,-5.51185,-5.51185,-5.51185,-5.51185,-5.51185,-8.66145,-5.51185,-8.66145,-8.66145,-5.51185,-8.66145,-5.51185,-8.66145,-8.66145,-8.66145,-8.66145,-8.66145,-8.66145,-8.66145,-8.66145,-18.50394,-8.66145,-18.50394,-8.66145,-8.66145,-18.50394,-8.66145,-18.50394,-18.50394,-18.50394,-18.50394,-18.50394,-18.50394,-18.50394,-18.50394,-18.50394,-8.66145,-18.50394,-8.66145,-18.50394,-18.50394,-8.66145,-18.50394,-8.66145,-18.50394,-16.14173,-18.50394,-16.14173,-16.14173,-16.14173,-16.14173,-18.50394,-16.14173,-16.14173,-16.14173,-18.50394,-18.50394,-16.14173,-16.14173,-18.50394,-23.62205,-23.62205,-23.62205,-23.62205,-23.62205,-23.62205,-23.62205,-23.62205,-23.62205,-23.62205,-23.62205,-23.62205,-18.50394,-23.62205,-23.62205,23.62205,-16.14173,10.62995,12.99215,20.47245,22.83465,23.62205,23.62205,22.83465,23.62205,20.47245,12.99215,10.62995,-16.14173,-18.50394,-23.62205,-23.62205,22.83465,22.83465,22.83465,22.83465,22.83465,22.83465,22.83465,22.83465,20.47245,22.83465,20.47245,22.83465,22.83465,20.47245,22.83465,20.47245,-5.51185,-8.66145,-8.66145,-5.51185,-23.62205,-23.62205,-18.50394,-18.50394,23.62205,23.62205,-5.51185,-5.51185,-8.66145,-18.50394,23.62205,23.62205,-8.66145,-18.50394,-23.62205,-23.62205,20.47245,20.47245,20.47245,20.47245,20.47245,20.47245,20.47245,20.47245,22.83465,20.47245,22.83465,20.47245,12.99215,12.99215,12.99215,12.99215,12.99215,12.99215,12.99215,12.99215,12.99215,12.99215,12.99215,12.99215,12.99215,12.99215,12.99215,12.99215,12.99215,12.99215,12.99215,12.99215,12.99215,12.99215,12.99215,12.99215,12.99215,12.99215,12.99215,12.99215,12.99215,12.99215,12.99215,12.99215,12.99215,12.99215,12.99215,12.99215,12.99215,12.99215,12.99215,12.99215,12.99215,12.99215,12.99215,12.99215,12.99215,12.99215,12.99215,12.99215,12.99215,12.99215,12.99215,12.99215,12.99215,12.99215,12.99215,12.99215,12.99215,12.99215,12.99215,12.99215,12.99215,12.99215,12.99215,12.99215,12.99215,12.99215,12.99215,12.99215,12.99215,12.99215,12.99215,12.99215,12.99215,12.99215,12.99215,12.99215,12.99215,12.99215,12.99215,12.99215,12.99215,12.99215,12.99215,12.99215,12.99215,12.99215,12.99215,12.99215,12.99215,12.99215,12.99215,12.99215,12.99215,12.99215,12.99215,12.99215,12.99215,12.99215,12.99215,12.99215,12.99215,12.99215,12.99215,12.99215,12.99215,12.99215,12.99215,12.99215,12.99215,12.99215,12.99215,12.99215,12.99215,12.99215,12.99215,12.99215,12.99215,12.99215,12.99215,12.99215,12.99215,12.99215,12.99215,12.99215,12.99215,12.99215,12.99215,12.99215,12.99215,12.99215,12.99215,12.99215,12.99215,12.99215,12.99215,12.99215,12.99215,12.99215,12.99215,12.99215,12.99215,12.99215,12.99215,12.99215,12.99215,12.99215,12.99215,12.99215,12.99215,12.99215,12.99215,12.99215,12.99215,12.99215,12.99215,12.99215,12.99215,12.99215,12.99215,12.99215,12.99215,12.99215,12.99215,12.99215,12.99215,12.99215,12.99215,12.99215,12.99215,12.99215,12.99215,12.99215,12.99215,12.99215,12.99215,12.99215,12.99215,12.99215,12.99215,12.99215,12.99215,12.99215,12.99215,12.99215,12.99215,12.99215,12.99215,12.99215,12.99215,12.99215,12.99215,12.99215,12.99215,12.99215,12.99215,12.99215,12.99215,12.99215,12.99215,12.99215,12.99215,12.99215,12.99215,12.99215,12.99215,12.99215,12.99215,12.99215,12.99215,12.99215,12.99215,12.99215,12.99215,12.99215,12.99215,12.99215,12.99215,12.99215,12.99215,12.99215,12.99215,12.99215,12.99215,12.99215,12.99215,12.99215,12.99215,12.99215,12.99215,12.99215,12.99215,12.99215,12.99215,12.99215,12.99215,12.99215,12.99215,12.99215,12.99215,12.99215,12.99215,12.99215,12.99215,12.99215,12.99215,12.99215,12.99215,12.99215,12.99215,12.99215,12.99215,12.99215,12.99215,12.99215,12.99215,12.99215,12.99215,12.99215,12.99215,12.99215,12.99215,12.99215,12.99215,12.99215,12.99215,12.99215,12.99215,12.99215,12.99215,12.99215,12.99215,12.99215,12.99215,12.99215,12.99215,12.99215,12.99215,12.99215,12.99215,12.99215,12.99215,12.99215,12.99215,12.99215,12.99215,12.99215,12.99215,12.99215,12.99215,12.99215,12.99215,12.99215,12.99215,12.99215,12.99215,12.99215,12.99215,12.99215,12.99215,12.99215,12.99215,12.99215,12.99215,12.99215,12.99215,12.99215,12.99215,12.99215,12.99215,12.99215,12.99215,12.99215,12.99215,12.99215,12.99215,12.99215,12.99215,12.99215,12.99215,12.99215,12.99215,12.99215,12.99215,12.99215,12.99215,12.99215,12.99215,12.99215,12.99215,12.99215,12.99215,12.99215,12.99215,12.99215,12.99215,12.99215,12.99215,12.99215,12.99215,12.99215,12.99215,12.99215,12.99215,12.99215,12.99215,12.99215,12.99215,12.99215,12.99215,12.99215,12.99215,12.99215,12.99215,12.99215,12.99215,12.99215,12.99215,12.99215,12.99215,12.99215,12.99215,12.99215,12.99215,12.99215,12.99215,12.99215,12.99215,12.99215,12.99215,12.99215,12.99215,12.99215,12.99215,12.99215,12.99215,12.99215,12.99215,12.99215,12.99215,12.99215,12.99215,12.99215,12.99215,12.99215,12.99215,12.99215,12.99215,12.99215,12.99215,12.99215,12.99215,12.99215,12.99215,12.99215,12.99215,12.99215,12.99215,12.99215,12.99215,12.99215,12.99215,12.99215,12.99215,12.99215,12.99215,12.99215,12.99215,12.99215,12.99215,12.99215,12.99215,12.99215,12.99215,12.99215,12.99215,12.99215,12.99215,12.99215,12.99215,12.99215,12.99215,12.99215,12.99215,12.99215,12.99215,12.99215,12.99215,12.99215,12.99215,12.99215,12.99215,12.99215,12.99215,12.99215,12.99215,12.99215,12.99215,12.99215,12.99215,12.99215,10.62995,10.62995,10.62995,10.62995,10.62995,10.62995,10.62995,10.62995,10.62995,12.99215,10.62995,12.99215,10.62995,10.62995,10.62995,10.62995,12.99215,10.62995,12.99215,10.62995,12.99215,10.62995,12.99215,10.62995,10.62995,10.62995,10.62995,10.62995,10.62995,10.62995,10.62995,10.62995,10.62995,10.62995,10.62995,10.62995,-16.14173,10.62995,-16.14173,10.62995,10.62995,-16.14173,10.62995,-16.14173,10.62995,-14.96063,-16.14173,-5.51185,9.44885,9.44885,10.62995,-5.51185,-14.96063,-16.14173,-16.14173,-14.96063,-16.14173,10.62995,9.44885,9.44885,-14.96063,10.62995,10.62995,9.44885,10.62995,-14.96063,-14.96063,-16.14173,9.44885,-16.14173,-16.14173,-16.14173,-16.14173,-16.14173,-16.14173,-16.14173,-16.14173,-16.14173,-5.51185,-8.66145,-5.51185,-8.66145,-8.66145,-5.51185,-8.66145,-5.51185,9.44885,-5.51185,-5.51185,9.44885,9.44885,9.44885,-5.51185,-5.51185,-14.96063,-14.96063,-14.96063,-14.96063,-5.51185,-8.66145,-8.66145,-1.57485,-5.51185,-18.50394,1.57485,-23.62205,0.78745,1.57485,-18.50394,-23.62205,-18.50394,-16.14173,-5.51185,-5.51185,-8.66145,-16.14173,-18.50394,-18.50394,-18.50394,-23.62205,-23.62205,1.57485,0.78745,1.57485,-1.57485,-8.66145,-5.51185,-16.14173,-5.51185,-16.14173,-23.62205,-18.50394,-23.62205,1.57485,-8.66145,-8.66145,-5.51185,-1.57485,0.78745,1.57485,-18.50394,-18.50394,-5.51185,-8.66145,-18.50394,-18.50394,-18.50394,-23.62205,1.57485,1.57485,0.78745,-1.57485,-8.66145,-23.62205,-16.14173,-16.14173,-16.14173,-16.14173,-16.14173,-16.14173,-16.14173,-16.14173,-16.14173,-16.14173,-16.14173,-16.14173,-16.14173,-16.14173,-16.14173,-16.14173,-16.14173,-18.50394,-16.14173,-18.50394,-23.62205,-18.50394,-23.62205,-16.14173,-16.14173,-16.14173,-16.14173,-18.50394,-18.50394,-23.62205,-16.14173,-16.14173,-16.14173,-16.14173,-18.50394,-23.62205,23.62205,23.62205,23.62205,23.62205,23.62205,-23.62205,-23.62205,23.62205,23.62205,23.62205,-23.62205,-23.62205,23.62205,23.62205,23.62205,23.62205,23.62205,23.62205,23.62205,23.62205,-23.62205,23.62205,-23.62205,23.62205,23.62205,-23.62205,23.62205,-23.62205,-23.62205,-23.62205,-23.62205,-23.62205,-23.62205,-23.62205,-23.62205,-23.62205,-5.51185,-5.51185,-18.50394,-18.50394,-18.50394,-18.50394,-18.50394,-18.50394,-18.50394,-18.50394,-18.50394,-18.50394,-18.50394,-18.50394,-18.50394,-8.66145,-18.50394,-8.66145,-8.66145,-18.50394,-8.66145,-18.50394,-8.66145,-8.66145,-8.66145,-8.66145,-8.66145,-8.66145,-8.66145,-8.66145,10.62995,9.44885,9.44885,10.62995,10.62995,10.62995,9.44885,9.44885,10.62995,-16.14173,-16.14173,10.62995,10.62995,10.62995,-16.14173,-16.14173,-14.96063,-16.14173,-16.14173,-14.96063,-14.96063,-14.96063,-16.14173,-16.14173,9.44885,-14.96063,9.44885,-14.96063,-5.51185,-5.51185,9.44885,-14.96063,-14.96063,9.44885,-14.96063,10.62995,-16.14173,-5.51185,9.44885,9.44885,-5.51185,10.62995,-14.96063,-16.14173,-14.96063,9.44885,-14.96063,9.44885,-5.51185,-5.51185,-14.96063,9.44885,9.44885,-14.96063,9.44885,9.44885,9.44885,9.44885,9.44885,9.44885,9.44885,9.44885,-14.96063,-14.96063,-14.96063,-14.96063,-14.96063,-14.96063,-14.96063,-14.96063,1.57485,-23.62205,1.57485,-23.62205,-23.62205,1.57485,-23.62205,1.57485,-23.62205,-23.62205,-23.62205,-23.62205,-23.62205,-23.62205,-23.62205,-23.62205,-23.62205,-18.50394,-23.62205,-18.50394,-18.50394,-23.62205,-18.50394,-23.62205,-18.50394,-16.14173,-18.50394,-16.14173,-16.14173,-16.14173,-16.14173,-18.50394,-16.14173,-16.14173,-16.14173,-18.50394,-16.14173,-5.51185,-16.14173,-1.57485,-1.57485,-1.57485,-16.14173,-1.57485,-5.51185,-16.14173,-1.57485,0.78745,-1.57485,0.78745,-1.57485,-1.57485,-1.57485,-1.57485,0.78745,-1.57485,0.78745,-1.57485,0.78745,1.57485,0.78745,1.57485,1.57485,0.78745,1.57485,0.78745,1.57485,1.57485,1.57485,1.57485,1.57485,1.57485,1.57485,1.57485,-16.14173,-16.14173,-16.14173,-16.14173,-16.14173,-16.14173,-16.14173,-16.14173,-1.57485,-5.51185,-1.57485,-16.14173,-16.14173,-16.14173,-1.57485,-16.14173,-5.51185,-1.57485,1.57485,0.78745,1.57485,0.78745,0.78745,1.57485,0.78745,1.57485,-1.57485,-1.57485,-16.14173,-1.57485,-16.14173,-1.57485,-18.50394,-18.50394,-16.14173,-16.14173,-18.50394,-18.50394,-23.62205,-23.62205,-23.62205,-23.62205,-23.62205,-23.62205,-23.62205,-23.62205,-23.62205,-23.62205,-23.62205,-23.62205,-23.62205,1.57485,-23.62205,1.57485,1.57485,-23.62205,1.57485,-23.62205,1.57485,1.57485,1.57485,1.57485,1.57485,1.57485,1.57485,1.57485,1.57485,-23.62205,-23.62205,-18.50394,-16.14173,-1.57485,0.78745,1.57485,1.57485,1.57485,0.78745,-1.57485,-16.14173,-18.50394,-23.62205,-23.62205,-18.50394,-18.50394,-18.50394,-18.50394,-18.50394,-18.50394,-18.50394,-18.50394,-18.50394,-16.14173,-16.14173,-18.50394,-16.14173,-16.14173,-16.14173,-16.14173,-16.14173,-16.14173,-16.14173,-16.14173,-16.14173,-1.57485,-16.14173,-1.57485,-1.57485,-16.14173,-1.57485,-16.14173,-16.14173,-1.57485,-16.14173,-1.57485,-1.57485,-16.14173,-1.57485,-16.14173,-1.57485,-16.14173,-16.14173,-1.57485,-1.57485,-1.57485,-16.14173,-16.14173,-1.57485,-1.57485,-1.57485,-1.57485,-1.57485,-1.57485,-1.57485,-1.57485,0.78745,0.78745,0.78745,0.78745,0.78745,0.78745,0.78745,0.78745,-1.57485,-1.57485,-1.57485,-1.57485,-1.57485,-1.57485,-1.57485,-1.57485,-1.57485,0.78745,0.78745,-1.57485,-23.62205,-23.62205,1.57485,1.57485,1.57485,1.57485,-23.62205,-23.62205,-14.96063,-1.57485,-16.14173,-2.75595,-2.75595,-14.96063,-1.57485,-16.14173,-16.14173,-14.96063,-16.14173,-1.57485,-2.75595,-2.75595,-14.96063,-1.57485,-1.57485,-2.75595,-1.57485,-14.96063,-14.96063,-16.14173,-2.75595,-16.14173,-14.96063,-16.14173,-16.14173,-14.96063,-14.96063,-14.96063,-16.14173,-16.14173,-1.57485,-14.96063,-16.14173,-2.75595,-2.75595,-1.57485,-14.96063,-16.14173,-1.57485,-2.75595,-2.75595,-1.57485,-1.57485,-1.57485,-2.75595,-2.75595,-14.96063,-2.75595,-14.96063,-2.75595,-2.75595,-14.96063,-2.75595,-14.96063,-2.75595,-14.96063,-14.96063,-2.75595,-2.75595,-2.75595,-14.96063,-14.96063,-14.96063,-14.96063,-14.96063,-14.96063,-14.96063,-14.96063,-14.96063,-14.96063,-2.75595,-14.96063,-2.75595,-14.96063,-14.96063,-2.75595,-14.96063,-2.75595,-2.75595,-2.75595,-2.75595,-2.75595,-2.75595,-2.75595,-2.75595,-2.75595,12.99215,21.25985,12.99215,21.25985,21.25985,12.99215,21.25985,12.99215,12.99215,21.25985,21.25985,12.99215,12.99215,21.25985,21.25985,12.99215,21.25985,21.25985,21.25985,21.25985,21.25985,21.25985,21.25985,21.25985,21.25985,21.25985,21.25985,21.25985,21.25985,21.25985,21.25985,21.25985,21.25985,21.25985,21.25985,21.25985,21.25985,21.25985,21.25985,21.25985,21.25985,21.25985,21.25985,21.25985,21.25985,21.25985,21.25985,21.25985,21.25985,21.25985,21.25985,21.25985,21.25985,21.25985,21.25985,21.25985,21.25985,21.25985,21.25985,21.25985,21.25985,21.25985,21.25985,21.25985,12.99215,21.25985,21.25985,12.99215,12.99215,21.25985,21.25985,12.99215,21.25985,12.99215,21.25985,12.99215,12.99215,21.25985,12.99215,21.25985,12.99215,21.25985,12.99215,21.25985,12.99215,21.25985,12.99215,21.25985,12.99215,21.25985,12.99215,21.25985,21.25985,12.99215,21.25985,12.99215,21.25985,12.99215,21.25985,12.99215,21.25985,12.99215,21.25985,12.99215,12.99215,21.25985,21.25985,12.99215,12.99215,21.25985,21.25985,12.99215,12.99215,21.25985,21.25985,12.99215,21.25985,12.99215,21.25985,12.99215,21.25985,12.99215,21.25985,12.99215,21.25985,12.99215,21.25985,12.99215,21.25985,12.99215,21.25985,12.99215,21.25985,12.99215,21.25985,12.99215,21.25985,12.99215,21.25985,12.99215,12.99215,21.25985,12.99215,21.25985,12.99215,21.25985,12.99215,21.25985,21.25985,12.99215,21.25985,12.99215,12.99215,21.25985,21.25985,12.99215,21.25985,21.25985,21.25985,21.25985,21.25985,21.25985,21.25985,21.25985,21.25985,21.25985,21.25985,21.25985,21.25985,21.25985,21.25985,21.25985,21.25985,21.25985,21.25985,21.25985,21.25985,21.25985,21.25985,21.25985,21.25985,21.25985,21.25985,21.25985,21.25985,21.25985,21.25985,21.25985,21.25985,21.25985,21.25985,21.25985,21.25985,21.25985,21.25985,21.25985,21.25985,21.25985,21.25985,21.25985,21.25985,21.25985,21.25985,21.25985,21.25985,12.99215,21.25985,12.99215,21.25985,12.99215,21.25985,12.99215,21.25985,12.99215,12.99215,21.25985,21.25985,21.25985,12.99215,12.99215,12.99215,21.25985,21.25985,12.99215,12.99215,21.25985,21.25985,12.99215,21.25985,12.99215,21.25985,12.99215,21.25985,12.99215,21.25985,12.99215,21.25985,12.99215,21.25985,12.99215,21.25985,12.99215,21.25985,12.99215,21.25985,12.99215,21.25985,12.99215,12.99215,21.25985,12.99215,21.25985,12.99215,21.25985,12.99215,21.25985,12.99215,21.25985,12.99215,21.25985,12.99215,21.25985,12.99215,21.25985,12.99215,21.25985,12.99215,21.25985,12.99215,21.25985,12.99215,21.25985,21.25985,12.99215,21.25985,12.99215,21.25985,12.99215,21.25985,12.99215,21.25985,12.99215,21.25985,12.99215,21.25985,12.99215,21.25985,12.99215,21.65355,12.99215,12.99215,21.65355,21.65355,21.65355,12.99215,12.99215,21.65355,12.99215,21.65355,12.99215,21.65355,21.65355,21.65355,21.65355,21.65355,21.65355,21.65355,21.65355,21.65355,21.65355,21.65355,21.65355,21.65355,21.65355,21.65355,21.65355,21.65355,21.65355,21.65355,21.65355,21.65355,21.65355,21.65355,21.65355,21.65355,21.65355,21.65355,21.65355,21.65355,21.65355,21.65355,21.65355,21.65355,21.65355,21.65355,21.65355,21.65355,21.65355,21.65355,21.65355,21.65355,21.65355,21.65355,21.65355,21.65355,21.65355,21.65355,21.65355,12.99215,21.65355,21.65355,12.99215,21.65355,12.99215,21.65355,12.99215,12.99215,21.65355,12.99215,21.65355,21.65355,12.99215,21.65355,12.99215,12.99215,21.65355,21.65355,12.99215,12.99215,21.65355,21.65355,12.99215,21.65355,12.99215,21.65355,12.99215,21.65355,12.99215,21.65355,12.99215,12.99215,21.65355,12.99215,21.65355,12.99215,21.65355,12.99215,21.65355,12.99215,21.65355,12.99215,21.65355,12.99215,21.65355,12.99215,21.65355,12.99215,21.65355,12.99215,21.65355,12.99215,21.65355,12.99215,21.65355,21.65355,12.99215,21.65355,12.99215,21.65355,12.99215,21.65355,12.99215,21.65355,12.99215,21.65355,12.99215,21.65355,12.99215,21.65355,12.99215,21.65355,12.99215,21.65355,12.99215,21.65355,12.99215,21.65355,12.99215,12.99215,21.65355,21.65355,12.99215,21.25985,12.99215,21.25985,12.99215,12.99215,21.25985,12.99215,21.25985,12.99215,21.25985,12.99215,21.25985,21.25985,21.25985,21.25985,21.25985,21.25985,21.25985,21.25985,21.25985,21.25985,21.25985,21.25985,21.25985,21.25985,21.25985,21.25985,21.25985,21.25985,21.25985,21.25985,21.25985,21.25985,21.25985,21.25985,21.25985,21.25985,21.25985,21.25985,21.25985,21.25985,21.25985,21.25985,21.25985,21.25985,21.25985,21.25985,21.25985,21.25985,21.25985,21.25985,21.25985,21.25985,21.25985,21.25985,21.25985,21.25985,21.25985,21.25985,21.25985,12.99215,21.25985,21.25985,12.99215,12.99215,21.25985,12.99215,21.25985,12.99215,21.25985,12.99215,21.25985,21.25985,12.99215,21.25985,12.99215,12.99215,21.25985,21.25985,12.99215,12.99215,21.25985,21.25985,12.99215,12.99215,21.25985,21.25985,12.99215,21.25985,12.99215,21.25985,12.99215,21.25985,12.99215,21.25985,12.99215,21.25985,12.99215,21.25985,12.99215,21.25985,12.99215,21.25985,12.99215,12.99215,21.25985,12.99215,21.25985,12.99215,21.25985,12.99215,21.25985,12.99215,21.25985,12.99215,21.25985,21.25985,12.99215,21.25985,12.99215,21.25985,12.99215,21.25985,12.99215,21.25985,12.99215,21.25985,12.99215,21.25985,12.99215,21.25985,12.99215,21.25985,12.99215,21.25985,12.99215,21.25985,12.99215,21.25985,12.99215,12.99215,21.25985,21.25985,12.99215,12.99215,21.65355,12.99215,21.65355,21.65355,12.99215,21.65355,12.99215,12.99215,21.65355,21.65355,12.99215,21.65355,21.65355,21.65355,21.65355,21.65355,21.65355,21.65355,21.65355,21.65355,21.65355,21.65355,21.65355,21.65355,21.65355,21.65355,21.65355,21.65355,21.65355,21.65355,21.65355,21.65355,21.65355,21.65355,21.65355,21.65355,21.65355,21.65355,21.65355,21.65355,21.65355,21.65355,21.65355,21.65355,21.65355,21.65355,21.65355,21.65355,21.65355,21.65355,21.65355,21.65355,21.65355,21.65355,21.65355,21.65355,21.65355,21.65355,21.65355,21.65355,12.99215,21.65355,12.99215,12.99215,21.65355,21.65355,12.99215,21.65355,12.99215,12.99215,21.65355,21.65355,21.65355,12.99215,12.99215,21.65355,12.99215,21.65355,12.99215,21.65355,12.99215,21.65355,12.99215,21.65355,12.99215,21.65355,12.99215,21.65355,12.99215,21.65355,12.99215,12.99215,21.65355,12.99215,21.65355,12.99215,21.65355,12.99215,21.65355,12.99215,21.65355,12.99215,21.65355,12.99215,21.65355,12.99215,21.65355,12.99215,21.65355,12.99215,21.65355,12.99215,21.65355,12.99215,21.65355,21.65355,12.99215,21.65355,12.99215,21.65355,12.99215,21.65355,12.99215,21.65355,12.99215,21.65355,12.99215,21.65355,12.99215,21.65355,12.99215,21.65355,12.99215,21.65355,12.99215,12.99215,21.65355,21.65355,12.99215,12.99215,21.65355,21.65355,12.99215,12.99215,21.65355,12.99215,21.65355,21.65355,12.99215,21.65355,12.99215,12.99215,21.65355,21.65355,12.99215,21.65355,21.65355,21.65355,21.65355,21.65355,21.65355,21.65355,21.65355,21.65355,21.65355,21.65355,21.65355,21.65355,21.65355,21.65355,21.65355,21.65355,21.65355,21.65355,21.65355,21.65355,21.65355,21.65355,21.65355,21.65355,21.65355,21.65355,21.65355,21.65355,21.65355,21.65355,21.65355,21.65355,21.65355,21.65355,21.65355,21.65355,21.65355,21.65355,21.65355,21.65355,21.65355,21.65355,21.65355,21.65355,21.65355,21.65355,21.65355,12.99215,21.65355,21.65355,12.99215,12.99215,21.65355,21.65355,12.99215,21.65355,12.99215,21.65355,12.99215,12.99215,21.65355,12.99215,21.65355,12.99215,21.65355,12.99215,21.65355,12.99215,21.65355,12.99215,21.65355,12.99215,21.65355,12.99215,21.65355,12.99215,21.65355,12.99215,21.65355,12.99215,21.65355,12.99215,21.65355,21.65355,12.99215,21.65355,12.99215,21.65355,12.99215,21.65355,12.99215,21.65355,12.99215,21.65355,12.99215,21.65355,12.99215,21.65355,12.99215,12.99215,21.65355,21.65355,12.99215,12.99215,21.65355,21.65355,12.99215,12.99215,21.65355,21.65355,12.99215,21.65355,12.99215,21.65355,12.99215,21.65355,12.99215,21.65355,12.99215,21.65355,12.99215,21.65355,12.99215,21.65355,12.99215,21.65355,12.99215,21.65355,12.99215,21.65355,12.99215,12.99215,21.25985,12.99215,21.25985,21.25985,12.99215,21.25985,12.99215,12.99215,21.25985,21.25985,12.99215,21.25985,21.25985,21.25985,21.25985,21.25985,21.25985,21.25985,21.25985,21.25985,21.25985,21.25985,21.25985,21.25985,21.25985,21.25985,21.25985,21.25985,21.25985,21.25985,21.25985,21.25985,21.25985,21.25985,21.25985,21.25985,21.25985,21.25985,21.25985,21.25985,21.25985,21.25985,21.25985,21.25985,21.25985,21.25985,21.25985,21.25985,21.25985,21.25985,21.25985,21.25985,21.25985,21.25985,21.25985,21.25985,21.25985,21.25985,21.25985,21.25985,12.99215,21.25985,12.99215,12.99215,21.25985,21.25985,12.99215,12.99215,21.25985,21.25985,12.99215,21.25985,12.99215,21.25985,12.99215,21.25985,12.99215,21.25985,12.99215,21.25985,12.99215,21.25985,12.99215,21.25985,12.99215,21.25985,12.99215,21.25985,12.99215,21.25985,12.99215,21.25985,12.99215,21.25985,12.99215,12.99215,21.25985,12.99215,21.25985,12.99215,21.25985,12.99215,21.25985,12.99215,21.25985,12.99215,21.25985,12.99215,21.25985,12.99215,21.25985,12.99215,21.25985,12.99215,21.25985,12.99215,21.25985,12.99215,21.25985,21.25985,12.99215,21.25985,12.99215,21.25985,12.99215,21.25985,12.99215,21.25985,12.99215,21.25985,12.99215,21.25985,12.99215,21.25985,12.99215,21.25985,12.99215,21.25985,12.99215,21.25985,12.99215,21.25985,12.99215,21.25985,12.99215,21.25985,12.99215,12.99215,21.25985,12.99215,21.25985,12.99215,21.25985,12.99215,21.25985,21.25985,21.25985,21.25985,21.25985,21.25985,21.25985,21.25985,21.25985,21.25985,21.25985,21.25985,21.25985,21.25985,21.25985,21.25985,21.25985,21.25985,21.25985,21.25985,21.25985,21.25985,21.25985,21.25985,21.25985,21.25985,21.25985,21.25985,21.25985,21.25985,21.25985,21.25985,21.25985,21.25985,21.25985,21.25985,21.25985,21.25985,21.25985,21.25985,21.25985,21.25985,21.25985,21.25985,21.25985,21.25985,21.25985,21.25985,21.25985,21.25985,12.99215,12.99215,21.25985,12.99215,21.25985,12.99215,21.25985,12.99215,21.25985,12.99215,21.25985,12.99215,21.25985,12.99215,21.25985,21.25985,12.99215,21.25985,12.99215,21.25985,12.99215,21.25985,12.99215,21.25985,12.99215,21.25985,12.99215,21.25985,12.99215,21.25985,12.99215,21.25985,12.99215,21.25985,12.99215,21.25985,12.99215,21.25985,12.99215,12.99215,21.25985,21.25985,12.99215,12.99215,21.25985,21.25985,12.99215,12.99215,21.25985,21.25985,12.99215,12.99215,21.25985,21.25985,12.99215,12.99215,21.25985,21.25985,12.99215,12.99215,21.25985,21.25985,12.99215,21.25985,12.99215,21.25985,12.99215,21.25985,12.99215,21.25985,12.99215,21.25985,12.99215,21.25985,12.99215,21.25985,12.99215,21.25985,12.99215,21.25985,12.99215,21.25985,12.99215,21.65355,12.99215,21.65355,12.99215,12.99215,21.65355,12.99215,21.65355,12.99215,21.65355,12.99215,21.65355,21.65355,21.65355,21.65355,21.65355,21.65355,21.65355,21.65355,21.65355,21.65355,21.65355,21.65355,21.65355,21.65355,21.65355,21.65355,21.65355,21.65355,21.65355,21.65355,21.65355,21.65355,21.65355,21.65355,21.65355,21.65355,21.65355,21.65355,21.65355,21.65355,21.65355,21.65355,21.65355,21.65355,21.65355,21.65355,21.65355,21.65355,21.65355,21.65355,21.65355,21.65355,21.65355,21.65355,21.65355,21.65355,21.65355,21.65355,21.65355,12.99215,21.65355,21.65355,12.99215,12.99215,21.65355,12.99215,21.65355,12.99215,21.65355,12.99215,21.65355,21.65355,12.99215,21.65355,12.99215,12.99215,21.65355,21.65355,12.99215,12.99215,21.65355,21.65355,12.99215,12.99215,21.65355,21.65355,12.99215,21.65355,12.99215,21.65355,12.99215,21.65355,12.99215,21.65355,12.99215,21.65355,12.99215,21.65355,12.99215,21.65355,12.99215,21.65355,12.99215,12.99215,21.65355,12.99215,21.65355,12.99215,21.65355,12.99215,21.65355,12.99215,21.65355,12.99215,21.65355,21.65355,12.99215,21.65355,12.99215,21.65355,12.99215,21.65355,12.99215,21.65355,12.99215,21.65355,12.99215,21.65355,12.99215,21.65355,12.99215,21.65355,12.99215,21.65355,12.99215,21.65355,12.99215,21.65355,12.99215,12.99215,21.65355,21.65355,12.99215],\"type\":\"mesh3d\"}],                        {\"template\":{\"data\":{\"bar\":[{\"error_x\":{\"color\":\"#2a3f5f\"},\"error_y\":{\"color\":\"#2a3f5f\"},\"marker\":{\"line\":{\"color\":\"#E5ECF6\",\"width\":0.5},\"pattern\":{\"fillmode\":\"overlay\",\"size\":10,\"solidity\":0.2}},\"type\":\"bar\"}],\"barpolar\":[{\"marker\":{\"line\":{\"color\":\"#E5ECF6\",\"width\":0.5},\"pattern\":{\"fillmode\":\"overlay\",\"size\":10,\"solidity\":0.2}},\"type\":\"barpolar\"}],\"carpet\":[{\"aaxis\":{\"endlinecolor\":\"#2a3f5f\",\"gridcolor\":\"white\",\"linecolor\":\"white\",\"minorgridcolor\":\"white\",\"startlinecolor\":\"#2a3f5f\"},\"baxis\":{\"endlinecolor\":\"#2a3f5f\",\"gridcolor\":\"white\",\"linecolor\":\"white\",\"minorgridcolor\":\"white\",\"startlinecolor\":\"#2a3f5f\"},\"type\":\"carpet\"}],\"choropleth\":[{\"colorbar\":{\"outlinewidth\":0,\"ticks\":\"\"},\"type\":\"choropleth\"}],\"contour\":[{\"colorbar\":{\"outlinewidth\":0,\"ticks\":\"\"},\"colorscale\":[[0.0,\"#0d0887\"],[0.1111111111111111,\"#46039f\"],[0.2222222222222222,\"#7201a8\"],[0.3333333333333333,\"#9c179e\"],[0.4444444444444444,\"#bd3786\"],[0.5555555555555556,\"#d8576b\"],[0.6666666666666666,\"#ed7953\"],[0.7777777777777778,\"#fb9f3a\"],[0.8888888888888888,\"#fdca26\"],[1.0,\"#f0f921\"]],\"type\":\"contour\"}],\"contourcarpet\":[{\"colorbar\":{\"outlinewidth\":0,\"ticks\":\"\"},\"type\":\"contourcarpet\"}],\"heatmap\":[{\"colorbar\":{\"outlinewidth\":0,\"ticks\":\"\"},\"colorscale\":[[0.0,\"#0d0887\"],[0.1111111111111111,\"#46039f\"],[0.2222222222222222,\"#7201a8\"],[0.3333333333333333,\"#9c179e\"],[0.4444444444444444,\"#bd3786\"],[0.5555555555555556,\"#d8576b\"],[0.6666666666666666,\"#ed7953\"],[0.7777777777777778,\"#fb9f3a\"],[0.8888888888888888,\"#fdca26\"],[1.0,\"#f0f921\"]],\"type\":\"heatmap\"}],\"heatmapgl\":[{\"colorbar\":{\"outlinewidth\":0,\"ticks\":\"\"},\"colorscale\":[[0.0,\"#0d0887\"],[0.1111111111111111,\"#46039f\"],[0.2222222222222222,\"#7201a8\"],[0.3333333333333333,\"#9c179e\"],[0.4444444444444444,\"#bd3786\"],[0.5555555555555556,\"#d8576b\"],[0.6666666666666666,\"#ed7953\"],[0.7777777777777778,\"#fb9f3a\"],[0.8888888888888888,\"#fdca26\"],[1.0,\"#f0f921\"]],\"type\":\"heatmapgl\"}],\"histogram\":[{\"marker\":{\"pattern\":{\"fillmode\":\"overlay\",\"size\":10,\"solidity\":0.2}},\"type\":\"histogram\"}],\"histogram2d\":[{\"colorbar\":{\"outlinewidth\":0,\"ticks\":\"\"},\"colorscale\":[[0.0,\"#0d0887\"],[0.1111111111111111,\"#46039f\"],[0.2222222222222222,\"#7201a8\"],[0.3333333333333333,\"#9c179e\"],[0.4444444444444444,\"#bd3786\"],[0.5555555555555556,\"#d8576b\"],[0.6666666666666666,\"#ed7953\"],[0.7777777777777778,\"#fb9f3a\"],[0.8888888888888888,\"#fdca26\"],[1.0,\"#f0f921\"]],\"type\":\"histogram2d\"}],\"histogram2dcontour\":[{\"colorbar\":{\"outlinewidth\":0,\"ticks\":\"\"},\"colorscale\":[[0.0,\"#0d0887\"],[0.1111111111111111,\"#46039f\"],[0.2222222222222222,\"#7201a8\"],[0.3333333333333333,\"#9c179e\"],[0.4444444444444444,\"#bd3786\"],[0.5555555555555556,\"#d8576b\"],[0.6666666666666666,\"#ed7953\"],[0.7777777777777778,\"#fb9f3a\"],[0.8888888888888888,\"#fdca26\"],[1.0,\"#f0f921\"]],\"type\":\"histogram2dcontour\"}],\"mesh3d\":[{\"colorbar\":{\"outlinewidth\":0,\"ticks\":\"\"},\"type\":\"mesh3d\"}],\"parcoords\":[{\"line\":{\"colorbar\":{\"outlinewidth\":0,\"ticks\":\"\"}},\"type\":\"parcoords\"}],\"pie\":[{\"automargin\":true,\"type\":\"pie\"}],\"scatter\":[{\"marker\":{\"colorbar\":{\"outlinewidth\":0,\"ticks\":\"\"}},\"type\":\"scatter\"}],\"scatter3d\":[{\"line\":{\"colorbar\":{\"outlinewidth\":0,\"ticks\":\"\"}},\"marker\":{\"colorbar\":{\"outlinewidth\":0,\"ticks\":\"\"}},\"type\":\"scatter3d\"}],\"scattercarpet\":[{\"marker\":{\"colorbar\":{\"outlinewidth\":0,\"ticks\":\"\"}},\"type\":\"scattercarpet\"}],\"scattergeo\":[{\"marker\":{\"colorbar\":{\"outlinewidth\":0,\"ticks\":\"\"}},\"type\":\"scattergeo\"}],\"scattergl\":[{\"marker\":{\"colorbar\":{\"outlinewidth\":0,\"ticks\":\"\"}},\"type\":\"scattergl\"}],\"scattermapbox\":[{\"marker\":{\"colorbar\":{\"outlinewidth\":0,\"ticks\":\"\"}},\"type\":\"scattermapbox\"}],\"scatterpolar\":[{\"marker\":{\"colorbar\":{\"outlinewidth\":0,\"ticks\":\"\"}},\"type\":\"scatterpolar\"}],\"scatterpolargl\":[{\"marker\":{\"colorbar\":{\"outlinewidth\":0,\"ticks\":\"\"}},\"type\":\"scatterpolargl\"}],\"scatterternary\":[{\"marker\":{\"colorbar\":{\"outlinewidth\":0,\"ticks\":\"\"}},\"type\":\"scatterternary\"}],\"surface\":[{\"colorbar\":{\"outlinewidth\":0,\"ticks\":\"\"},\"colorscale\":[[0.0,\"#0d0887\"],[0.1111111111111111,\"#46039f\"],[0.2222222222222222,\"#7201a8\"],[0.3333333333333333,\"#9c179e\"],[0.4444444444444444,\"#bd3786\"],[0.5555555555555556,\"#d8576b\"],[0.6666666666666666,\"#ed7953\"],[0.7777777777777778,\"#fb9f3a\"],[0.8888888888888888,\"#fdca26\"],[1.0,\"#f0f921\"]],\"type\":\"surface\"}],\"table\":[{\"cells\":{\"fill\":{\"color\":\"#EBF0F8\"},\"line\":{\"color\":\"white\"}},\"header\":{\"fill\":{\"color\":\"#C8D4E3\"},\"line\":{\"color\":\"white\"}},\"type\":\"table\"}]},\"layout\":{\"annotationdefaults\":{\"arrowcolor\":\"#2a3f5f\",\"arrowhead\":0,\"arrowwidth\":1},\"autotypenumbers\":\"strict\",\"coloraxis\":{\"colorbar\":{\"outlinewidth\":0,\"ticks\":\"\"}},\"colorscale\":{\"diverging\":[[0,\"#8e0152\"],[0.1,\"#c51b7d\"],[0.2,\"#de77ae\"],[0.3,\"#f1b6da\"],[0.4,\"#fde0ef\"],[0.5,\"#f7f7f7\"],[0.6,\"#e6f5d0\"],[0.7,\"#b8e186\"],[0.8,\"#7fbc41\"],[0.9,\"#4d9221\"],[1,\"#276419\"]],\"sequential\":[[0.0,\"#0d0887\"],[0.1111111111111111,\"#46039f\"],[0.2222222222222222,\"#7201a8\"],[0.3333333333333333,\"#9c179e\"],[0.4444444444444444,\"#bd3786\"],[0.5555555555555556,\"#d8576b\"],[0.6666666666666666,\"#ed7953\"],[0.7777777777777778,\"#fb9f3a\"],[0.8888888888888888,\"#fdca26\"],[1.0,\"#f0f921\"]],\"sequentialminus\":[[0.0,\"#0d0887\"],[0.1111111111111111,\"#46039f\"],[0.2222222222222222,\"#7201a8\"],[0.3333333333333333,\"#9c179e\"],[0.4444444444444444,\"#bd3786\"],[0.5555555555555556,\"#d8576b\"],[0.6666666666666666,\"#ed7953\"],[0.7777777777777778,\"#fb9f3a\"],[0.8888888888888888,\"#fdca26\"],[1.0,\"#f0f921\"]]},\"colorway\":[\"#636efa\",\"#EF553B\",\"#00cc96\",\"#ab63fa\",\"#FFA15A\",\"#19d3f3\",\"#FF6692\",\"#B6E880\",\"#FF97FF\",\"#FECB52\"],\"font\":{\"color\":\"#2a3f5f\"},\"geo\":{\"bgcolor\":\"white\",\"lakecolor\":\"white\",\"landcolor\":\"#E5ECF6\",\"showlakes\":true,\"showland\":true,\"subunitcolor\":\"white\"},\"hoverlabel\":{\"align\":\"left\"},\"hovermode\":\"closest\",\"mapbox\":{\"style\":\"light\"},\"paper_bgcolor\":\"white\",\"plot_bgcolor\":\"#E5ECF6\",\"polar\":{\"angularaxis\":{\"gridcolor\":\"white\",\"linecolor\":\"white\",\"ticks\":\"\"},\"bgcolor\":\"#E5ECF6\",\"radialaxis\":{\"gridcolor\":\"white\",\"linecolor\":\"white\",\"ticks\":\"\"}},\"scene\":{\"xaxis\":{\"backgroundcolor\":\"#E5ECF6\",\"gridcolor\":\"white\",\"gridwidth\":2,\"linecolor\":\"white\",\"showbackground\":true,\"ticks\":\"\",\"zerolinecolor\":\"white\"},\"yaxis\":{\"backgroundcolor\":\"#E5ECF6\",\"gridcolor\":\"white\",\"gridwidth\":2,\"linecolor\":\"white\",\"showbackground\":true,\"ticks\":\"\",\"zerolinecolor\":\"white\"},\"zaxis\":{\"backgroundcolor\":\"#E5ECF6\",\"gridcolor\":\"white\",\"gridwidth\":2,\"linecolor\":\"white\",\"showbackground\":true,\"ticks\":\"\",\"zerolinecolor\":\"white\"}},\"shapedefaults\":{\"line\":{\"color\":\"#2a3f5f\"}},\"ternary\":{\"aaxis\":{\"gridcolor\":\"white\",\"linecolor\":\"white\",\"ticks\":\"\"},\"baxis\":{\"gridcolor\":\"white\",\"linecolor\":\"white\",\"ticks\":\"\"},\"bgcolor\":\"#E5ECF6\",\"caxis\":{\"gridcolor\":\"white\",\"linecolor\":\"white\",\"ticks\":\"\"}},\"title\":{\"x\":0.05},\"xaxis\":{\"automargin\":true,\"gridcolor\":\"white\",\"linecolor\":\"white\",\"ticks\":\"\",\"title\":{\"standoff\":15},\"zerolinecolor\":\"white\",\"zerolinewidth\":2},\"yaxis\":{\"automargin\":true,\"gridcolor\":\"white\",\"linecolor\":\"white\",\"ticks\":\"\",\"title\":{\"standoff\":15},\"zerolinecolor\":\"white\",\"zerolinewidth\":2}}}},                        {\"responsive\": true}                    ).then(function(){\n",
              "                            \n",
              "var gd = document.getElementById('40b0aba6-d273-4d2d-b7b4-179919158bb3');\n",
              "var x = new MutationObserver(function (mutations, observer) {{\n",
              "        var display = window.getComputedStyle(gd).display;\n",
              "        if (!display || display === 'none') {{\n",
              "            console.log([gd, 'removed!']);\n",
              "            Plotly.purge(gd);\n",
              "            observer.disconnect();\n",
              "        }}\n",
              "}});\n",
              "\n",
              "// Listen for the removal of the full notebook cells\n",
              "var notebookContainer = gd.closest('#notebook-container');\n",
              "if (notebookContainer) {{\n",
              "    x.observe(notebookContainer, {childList: true});\n",
              "}}\n",
              "\n",
              "// Listen for the clearing of the current output cell\n",
              "var outputEl = gd.closest('.output');\n",
              "if (outputEl) {{\n",
              "    x.observe(outputEl, {childList: true});\n",
              "}}\n",
              "\n",
              "                        })                };                            </script>        </div>\n",
              "</body>\n",
              "</html>"
            ]
          },
          "metadata": {}
        }
      ]
    },
    {
      "cell_type": "code",
      "source": [
        "verts, faces = mesh\n",
        "areas = np.zeros((len(faces)))\n",
        "verts = np.array(verts)\n",
        "\n",
        "# function to calculate triangle area by its vertices\n",
        "# https://en.wikipedia.org/wiki/Heron%27s_formula\n",
        "def triangle_area(pt1, pt2, pt3):\n",
        "    side_a = np.linalg.norm(pt1 - pt2)\n",
        "    side_b = np.linalg.norm(pt2 - pt3)\n",
        "    side_c = np.linalg.norm(pt3 - pt1)\n",
        "    s = 0.5 * ( side_a + side_b + side_c)\n",
        "    return max(s * (s - side_a) * (s - side_b) * (s - side_c), 0)**0.5\n",
        "\n",
        "# we calculate areas of all faces in our mesh\n",
        "for i in range(len(areas)):\n",
        "    areas[i] = (triangle_area(verts[faces[i][0]],\n",
        "                              verts[faces[i][1]],\n",
        "                              verts[faces[i][2]]))"
      ],
      "metadata": {
        "id": "Rcwd_9n5JgSj"
      },
      "execution_count": 7,
      "outputs": []
    },
    {
      "cell_type": "code",
      "source": [
        "k = 3000\n",
        "# we sample 'k' faces with probabilities proportional to their areas\n",
        "# weights are used to create a distribution.\n",
        "# they don't have to sum up to one.\n",
        "sampled_faces = (random.choices(faces, \n",
        "                                weights=areas,\n",
        "                                k=k))\n",
        "\n",
        "# function to sample points on a triangle surface\n",
        "def sample_point(pt1, pt2, pt3):\n",
        "    # barycentric coordinates on a triangle\n",
        "    # https://mathworld.wolfram.com/BarycentricCoordinates.html\n",
        "    s, t = sorted([random.random(), random.random()])\n",
        "    f = lambda i: s * pt1[i] + (t-s) * pt2[i] + (1-t) * pt3[i]\n",
        "    return (f(0), f(1), f(2))\n",
        " \n",
        "pointcloud = np.zeros((k, 3))\n",
        "\n",
        "# sample points on chosen faces for the point cloud of size 'k'\n",
        "for i in range(len(sampled_faces)):\n",
        "    pointcloud[i] = (sample_point(verts[sampled_faces[i][0]],\n",
        "                                  verts[sampled_faces[i][1]],\n",
        "                                  verts[sampled_faces[i][2]]))"
      ],
      "metadata": {
        "id": "Qhxy_HtXKafR"
      },
      "execution_count": 8,
      "outputs": []
    },
    {
      "cell_type": "code",
      "source": [
        "pointcloud"
      ],
      "metadata": {
        "colab": {
          "base_uri": "https://localhost:8080/"
        },
        "id": "zwrD6wciKe_B",
        "outputId": "fd0f3509-9207-46f3-e18d-0d5af53d2ac7"
      },
      "execution_count": 10,
      "outputs": [
        {
          "output_type": "execute_result",
          "data": {
            "text/plain": [
              "(3000, 3)"
            ]
          },
          "metadata": {},
          "execution_count": 10
        }
      ]
    },
    {
      "cell_type": "code",
      "source": [
        "!pip install ipyvolume\n",
        "import ipyvolume as ipv"
      ],
      "metadata": {
        "colab": {
          "base_uri": "https://localhost:8080/"
        },
        "id": "bUkOEcsLLEXv",
        "outputId": "441e6d26-0d9b-4c9c-b08d-df9d423ca5c8"
      },
      "execution_count": 11,
      "outputs": [
        {
          "output_type": "stream",
          "name": "stdout",
          "text": [
            "Looking in indexes: https://pypi.org/simple, https://us-python.pkg.dev/colab-wheels/public/simple/\n",
            "Collecting ipyvolume\n",
            "  Downloading ipyvolume-0.5.2-py2.py3-none-any.whl (2.9 MB)\n",
            "\u001b[K     |████████████████████████████████| 2.9 MB 28.7 MB/s \n",
            "\u001b[?25hRequirement already satisfied: traitlets in /usr/local/lib/python3.7/dist-packages (from ipyvolume) (5.1.1)\n",
            "Requirement already satisfied: requests in /usr/local/lib/python3.7/dist-packages (from ipyvolume) (2.23.0)\n",
            "Requirement already satisfied: numpy in /usr/local/lib/python3.7/dist-packages (from ipyvolume) (1.21.6)\n",
            "Collecting pythreejs>=1.0.0\n",
            "  Downloading pythreejs-2.4.1-py3-none-any.whl (3.3 MB)\n",
            "\u001b[K     |████████████████████████████████| 3.3 MB 53.9 MB/s \n",
            "\u001b[?25hCollecting traittypes\n",
            "  Downloading traittypes-0.2.1-py2.py3-none-any.whl (8.6 kB)\n",
            "Requirement already satisfied: ipywidgets>=7.5 in /usr/local/lib/python3.7/dist-packages (from ipyvolume) (7.7.1)\n",
            "Requirement already satisfied: Pillow in /usr/local/lib/python3.7/dist-packages (from ipyvolume) (7.1.2)\n",
            "Collecting ipywebrtc\n",
            "  Downloading ipywebrtc-0.6.0-py2.py3-none-any.whl (260 kB)\n",
            "\u001b[K     |████████████████████████████████| 260 kB 69.7 MB/s \n",
            "\u001b[?25hRequirement already satisfied: ipython-genutils~=0.2.0 in /usr/local/lib/python3.7/dist-packages (from ipywidgets>=7.5->ipyvolume) (0.2.0)\n",
            "Requirement already satisfied: jupyterlab-widgets>=1.0.0 in /usr/local/lib/python3.7/dist-packages (from ipywidgets>=7.5->ipyvolume) (3.0.3)\n",
            "Requirement already satisfied: widgetsnbextension~=3.6.0 in /usr/local/lib/python3.7/dist-packages (from ipywidgets>=7.5->ipyvolume) (3.6.1)\n",
            "Requirement already satisfied: ipython>=4.0.0 in /usr/local/lib/python3.7/dist-packages (from ipywidgets>=7.5->ipyvolume) (7.9.0)\n",
            "Requirement already satisfied: ipykernel>=4.5.1 in /usr/local/lib/python3.7/dist-packages (from ipywidgets>=7.5->ipyvolume) (5.3.4)\n",
            "Requirement already satisfied: jupyter-client in /usr/local/lib/python3.7/dist-packages (from ipykernel>=4.5.1->ipywidgets>=7.5->ipyvolume) (6.1.12)\n",
            "Requirement already satisfied: tornado>=4.2 in /usr/local/lib/python3.7/dist-packages (from ipykernel>=4.5.1->ipywidgets>=7.5->ipyvolume) (6.0.4)\n",
            "Requirement already satisfied: setuptools>=18.5 in /usr/local/lib/python3.7/dist-packages (from ipython>=4.0.0->ipywidgets>=7.5->ipyvolume) (57.4.0)\n",
            "Requirement already satisfied: backcall in /usr/local/lib/python3.7/dist-packages (from ipython>=4.0.0->ipywidgets>=7.5->ipyvolume) (0.2.0)\n",
            "Requirement already satisfied: pygments in /usr/local/lib/python3.7/dist-packages (from ipython>=4.0.0->ipywidgets>=7.5->ipyvolume) (2.6.1)\n",
            "Collecting jedi>=0.10\n",
            "  Downloading jedi-0.18.2-py2.py3-none-any.whl (1.6 MB)\n",
            "\u001b[K     |████████████████████████████████| 1.6 MB 62.4 MB/s \n",
            "\u001b[?25hRequirement already satisfied: pickleshare in /usr/local/lib/python3.7/dist-packages (from ipython>=4.0.0->ipywidgets>=7.5->ipyvolume) (0.7.5)\n",
            "Requirement already satisfied: pexpect in /usr/local/lib/python3.7/dist-packages (from ipython>=4.0.0->ipywidgets>=7.5->ipyvolume) (4.8.0)\n",
            "Requirement already satisfied: decorator in /usr/local/lib/python3.7/dist-packages (from ipython>=4.0.0->ipywidgets>=7.5->ipyvolume) (4.4.2)\n",
            "Requirement already satisfied: prompt-toolkit<2.1.0,>=2.0.0 in /usr/local/lib/python3.7/dist-packages (from ipython>=4.0.0->ipywidgets>=7.5->ipyvolume) (2.0.10)\n",
            "Requirement already satisfied: parso<0.9.0,>=0.8.0 in /usr/local/lib/python3.7/dist-packages (from jedi>=0.10->ipython>=4.0.0->ipywidgets>=7.5->ipyvolume) (0.8.3)\n",
            "Requirement already satisfied: wcwidth in /usr/local/lib/python3.7/dist-packages (from prompt-toolkit<2.1.0,>=2.0.0->ipython>=4.0.0->ipywidgets>=7.5->ipyvolume) (0.2.5)\n",
            "Requirement already satisfied: six>=1.9.0 in /usr/local/lib/python3.7/dist-packages (from prompt-toolkit<2.1.0,>=2.0.0->ipython>=4.0.0->ipywidgets>=7.5->ipyvolume) (1.15.0)\n",
            "Collecting ipydatawidgets>=1.1.1\n",
            "  Downloading ipydatawidgets-4.3.2-py2.py3-none-any.whl (271 kB)\n",
            "\u001b[K     |████████████████████████████████| 271 kB 68.8 MB/s \n",
            "\u001b[?25hRequirement already satisfied: notebook>=4.4.1 in /usr/local/lib/python3.7/dist-packages (from widgetsnbextension~=3.6.0->ipywidgets>=7.5->ipyvolume) (5.7.16)\n",
            "Requirement already satisfied: nbconvert<6.0 in /usr/local/lib/python3.7/dist-packages (from notebook>=4.4.1->widgetsnbextension~=3.6.0->ipywidgets>=7.5->ipyvolume) (5.6.1)\n",
            "Requirement already satisfied: terminado>=0.8.1 in /usr/local/lib/python3.7/dist-packages (from notebook>=4.4.1->widgetsnbextension~=3.6.0->ipywidgets>=7.5->ipyvolume) (0.13.3)\n",
            "Requirement already satisfied: nbformat in /usr/local/lib/python3.7/dist-packages (from notebook>=4.4.1->widgetsnbextension~=3.6.0->ipywidgets>=7.5->ipyvolume) (5.7.0)\n",
            "Requirement already satisfied: jupyter-core>=4.4.0 in /usr/local/lib/python3.7/dist-packages (from notebook>=4.4.1->widgetsnbextension~=3.6.0->ipywidgets>=7.5->ipyvolume) (4.11.2)\n",
            "Requirement already satisfied: prometheus-client in /usr/local/lib/python3.7/dist-packages (from notebook>=4.4.1->widgetsnbextension~=3.6.0->ipywidgets>=7.5->ipyvolume) (0.15.0)\n",
            "Requirement already satisfied: Send2Trash in /usr/local/lib/python3.7/dist-packages (from notebook>=4.4.1->widgetsnbextension~=3.6.0->ipywidgets>=7.5->ipyvolume) (1.8.0)\n",
            "Requirement already satisfied: pyzmq>=17 in /usr/local/lib/python3.7/dist-packages (from notebook>=4.4.1->widgetsnbextension~=3.6.0->ipywidgets>=7.5->ipyvolume) (23.2.1)\n",
            "Requirement already satisfied: jinja2<=3.0.0 in /usr/local/lib/python3.7/dist-packages (from notebook>=4.4.1->widgetsnbextension~=3.6.0->ipywidgets>=7.5->ipyvolume) (2.11.3)\n",
            "Requirement already satisfied: MarkupSafe>=0.23 in /usr/local/lib/python3.7/dist-packages (from jinja2<=3.0.0->notebook>=4.4.1->widgetsnbextension~=3.6.0->ipywidgets>=7.5->ipyvolume) (2.0.1)\n",
            "Requirement already satisfied: python-dateutil>=2.1 in /usr/local/lib/python3.7/dist-packages (from jupyter-client->ipykernel>=4.5.1->ipywidgets>=7.5->ipyvolume) (2.8.2)\n",
            "Requirement already satisfied: mistune<2,>=0.8.1 in /usr/local/lib/python3.7/dist-packages (from nbconvert<6.0->notebook>=4.4.1->widgetsnbextension~=3.6.0->ipywidgets>=7.5->ipyvolume) (0.8.4)\n",
            "Requirement already satisfied: bleach in /usr/local/lib/python3.7/dist-packages (from nbconvert<6.0->notebook>=4.4.1->widgetsnbextension~=3.6.0->ipywidgets>=7.5->ipyvolume) (5.0.1)\n",
            "Requirement already satisfied: pandocfilters>=1.4.1 in /usr/local/lib/python3.7/dist-packages (from nbconvert<6.0->notebook>=4.4.1->widgetsnbextension~=3.6.0->ipywidgets>=7.5->ipyvolume) (1.5.0)\n",
            "Requirement already satisfied: entrypoints>=0.2.2 in /usr/local/lib/python3.7/dist-packages (from nbconvert<6.0->notebook>=4.4.1->widgetsnbextension~=3.6.0->ipywidgets>=7.5->ipyvolume) (0.4)\n",
            "Requirement already satisfied: defusedxml in /usr/local/lib/python3.7/dist-packages (from nbconvert<6.0->notebook>=4.4.1->widgetsnbextension~=3.6.0->ipywidgets>=7.5->ipyvolume) (0.7.1)\n",
            "Requirement already satisfied: testpath in /usr/local/lib/python3.7/dist-packages (from nbconvert<6.0->notebook>=4.4.1->widgetsnbextension~=3.6.0->ipywidgets>=7.5->ipyvolume) (0.6.0)\n",
            "Requirement already satisfied: importlib-metadata>=3.6 in /usr/local/lib/python3.7/dist-packages (from nbformat->notebook>=4.4.1->widgetsnbextension~=3.6.0->ipywidgets>=7.5->ipyvolume) (4.13.0)\n",
            "Requirement already satisfied: jsonschema>=2.6 in /usr/local/lib/python3.7/dist-packages (from nbformat->notebook>=4.4.1->widgetsnbextension~=3.6.0->ipywidgets>=7.5->ipyvolume) (4.3.3)\n",
            "Requirement already satisfied: fastjsonschema in /usr/local/lib/python3.7/dist-packages (from nbformat->notebook>=4.4.1->widgetsnbextension~=3.6.0->ipywidgets>=7.5->ipyvolume) (2.16.2)\n",
            "Requirement already satisfied: typing-extensions>=3.6.4 in /usr/local/lib/python3.7/dist-packages (from importlib-metadata>=3.6->nbformat->notebook>=4.4.1->widgetsnbextension~=3.6.0->ipywidgets>=7.5->ipyvolume) (4.1.1)\n",
            "Requirement already satisfied: zipp>=0.5 in /usr/local/lib/python3.7/dist-packages (from importlib-metadata>=3.6->nbformat->notebook>=4.4.1->widgetsnbextension~=3.6.0->ipywidgets>=7.5->ipyvolume) (3.10.0)\n",
            "Requirement already satisfied: attrs>=17.4.0 in /usr/local/lib/python3.7/dist-packages (from jsonschema>=2.6->nbformat->notebook>=4.4.1->widgetsnbextension~=3.6.0->ipywidgets>=7.5->ipyvolume) (22.1.0)\n",
            "Requirement already satisfied: pyrsistent!=0.17.0,!=0.17.1,!=0.17.2,>=0.14.0 in /usr/local/lib/python3.7/dist-packages (from jsonschema>=2.6->nbformat->notebook>=4.4.1->widgetsnbextension~=3.6.0->ipywidgets>=7.5->ipyvolume) (0.19.2)\n",
            "Requirement already satisfied: importlib-resources>=1.4.0 in /usr/local/lib/python3.7/dist-packages (from jsonschema>=2.6->nbformat->notebook>=4.4.1->widgetsnbextension~=3.6.0->ipywidgets>=7.5->ipyvolume) (5.10.0)\n",
            "Requirement already satisfied: ptyprocess in /usr/local/lib/python3.7/dist-packages (from terminado>=0.8.1->notebook>=4.4.1->widgetsnbextension~=3.6.0->ipywidgets>=7.5->ipyvolume) (0.7.0)\n",
            "Requirement already satisfied: webencodings in /usr/local/lib/python3.7/dist-packages (from bleach->nbconvert<6.0->notebook>=4.4.1->widgetsnbextension~=3.6.0->ipywidgets>=7.5->ipyvolume) (0.5.1)\n",
            "Requirement already satisfied: certifi>=2017.4.17 in /usr/local/lib/python3.7/dist-packages (from requests->ipyvolume) (2022.9.24)\n",
            "Requirement already satisfied: urllib3!=1.25.0,!=1.25.1,<1.26,>=1.21.1 in /usr/local/lib/python3.7/dist-packages (from requests->ipyvolume) (1.24.3)\n",
            "Requirement already satisfied: idna<3,>=2.5 in /usr/local/lib/python3.7/dist-packages (from requests->ipyvolume) (2.10)\n",
            "Requirement already satisfied: chardet<4,>=3.0.2 in /usr/local/lib/python3.7/dist-packages (from requests->ipyvolume) (3.0.4)\n",
            "Installing collected packages: jedi, traittypes, ipydatawidgets, pythreejs, ipywebrtc, ipyvolume\n",
            "Successfully installed ipydatawidgets-4.3.2 ipyvolume-0.5.2 ipywebrtc-0.6.0 jedi-0.18.2 pythreejs-2.4.1 traittypes-0.2.1\n"
          ]
        }
      ]
    },
    {
      "cell_type": "code",
      "source": [],
      "metadata": {
        "colab": {
          "base_uri": "https://localhost:8080/",
          "height": 375,
          "referenced_widgets": [
            "b72907fa4d9c4cfb9a3ab76fb80b4d99",
            "f955734e789042b5ba531052a5419abf",
            "10a22a9b95914618bf87ba4189b35572",
            "9f15171c754948efbd97b8ee421a3db6",
            "be003835a7c940f0aba93f4b692ccf65",
            "02d0549ca4c542af97d38c3ff6a416f5",
            "13febb5f13ae4db68009dd857df09ab3",
            "e7ba8cc1e83243eea255611239ef25a7",
            "97ef0941caab4b6d8f757fc5bd983a2f",
            "869983d6f43b446e802754b05a1f8c62",
            "ff16b7c10b404187bb64727f37b6eb38",
            "c61b4bd6dec044698fb585b30be1aa39",
            "e845ec5ae2354f60aebb14ff8ceabd91",
            "c6b58d3f42134e1aa0d11a5bccacca92",
            "ce7ff231504a4504bf3cd00dc3bdbd61",
            "f1c284f61ff04034b66bb0770af19b9e",
            "c4bbf1c8cbb84b2b93739a5eff8de699",
            "3e5f204897ac4657bc84dc8c8833faa9",
            "39ca5794f6704ff19b46f2db9a45a1b7"
          ]
        },
        "id": "ggMAbp7xLSSS",
        "outputId": "84e0619e-31f1-4989-e4ef-a3cd0b42af3e"
      },
      "execution_count": 14,
      "outputs": [
        {
          "output_type": "error",
          "ename": "TypeError",
          "evalue": "ignored",
          "traceback": [
            "\u001b[0;31m---------------------------------------------------------------------------\u001b[0m",
            "\u001b[0;31mTypeError\u001b[0m                                 Traceback (most recent call last)",
            "\u001b[0;32m<ipython-input-14-7c9a965f49e9>\u001b[0m in \u001b[0;36m<module>\u001b[0;34m\u001b[0m\n\u001b[0;32m----> 1\u001b[0;31m \u001b[0mipv\u001b[0m\u001b[0;34m.\u001b[0m\u001b[0mquickvolshow\u001b[0m\u001b[0;34m(\u001b[0m\u001b[0mpointcloud\u001b[0m\u001b[0;34m,\u001b[0m \u001b[0mlevel\u001b[0m\u001b[0;34m=\u001b[0m\u001b[0;34m[\u001b[0m\u001b[0;36m0.25\u001b[0m\u001b[0;34m,\u001b[0m \u001b[0;36m0.75\u001b[0m\u001b[0;34m]\u001b[0m\u001b[0;34m,\u001b[0m \u001b[0mopacity\u001b[0m\u001b[0;34m=\u001b[0m\u001b[0;36m0.03\u001b[0m\u001b[0;34m,\u001b[0m \u001b[0mlevel_width\u001b[0m\u001b[0;34m=\u001b[0m\u001b[0;36m0.1\u001b[0m\u001b[0;34m,\u001b[0m \u001b[0mdata_min\u001b[0m\u001b[0;34m=\u001b[0m\u001b[0;36m0\u001b[0m\u001b[0;34m,\u001b[0m \u001b[0mdata_max\u001b[0m\u001b[0;34m=\u001b[0m\u001b[0;36m1\u001b[0m\u001b[0;34m)\u001b[0m\u001b[0;34m\u001b[0m\u001b[0;34m\u001b[0m\u001b[0m\n\u001b[0m",
            "\u001b[0;32m/usr/local/lib/python3.7/dist-packages/ipyvolume/widgets.py\u001b[0m in \u001b[0;36mquickvolshow\u001b[0;34m(data, lighting, data_min, data_max, max_shape, level, opacity, level_width, extent, memorder, **kwargs)\u001b[0m\n\u001b[1;32m    351\u001b[0m     \u001b[0mipv\u001b[0m\u001b[0;34m.\u001b[0m\u001b[0mfigure\u001b[0m\u001b[0;34m(\u001b[0m\u001b[0;34m)\u001b[0m\u001b[0;34m\u001b[0m\u001b[0;34m\u001b[0m\u001b[0m\n\u001b[1;32m    352\u001b[0m     ipv.volshow(data, lighting=lighting, data_min=data_min, data_max=data_max, max_shape=max_shape,\n\u001b[0;32m--> 353\u001b[0;31m         level=level, opacity=opacity, level_width=level_width, extent=extent,  memorder=memorder, **kwargs)\n\u001b[0m\u001b[1;32m    354\u001b[0m     \u001b[0;32mreturn\u001b[0m \u001b[0mipv\u001b[0m\u001b[0;34m.\u001b[0m\u001b[0mgcc\u001b[0m\u001b[0;34m(\u001b[0m\u001b[0;34m)\u001b[0m\u001b[0;34m\u001b[0m\u001b[0;34m\u001b[0m\u001b[0m\n\u001b[1;32m    355\u001b[0m \u001b[0;34m\u001b[0m\u001b[0m\n",
            "\u001b[0;32m/usr/local/lib/python3.7/dist-packages/ipyvolume/pylab.py\u001b[0m in \u001b[0;36mvolshow\u001b[0;34m(data, lighting, data_min, data_max, max_shape, tf, stereo, ambient_coefficient, diffuse_coefficient, specular_coefficient, specular_exponent, downscale, level, opacity, level_width, controls, max_opacity, memorder, extent)\u001b[0m\n\u001b[1;32m    686\u001b[0m \u001b[0;34m\u001b[0m\u001b[0m\n\u001b[1;32m    687\u001b[0m     \u001b[0;32mif\u001b[0m \u001b[0mextent\u001b[0m\u001b[0;34m:\u001b[0m\u001b[0;34m\u001b[0m\u001b[0;34m\u001b[0m\u001b[0m\n\u001b[0;32m--> 688\u001b[0;31m         \u001b[0m_grow_limits\u001b[0m\u001b[0;34m(\u001b[0m\u001b[0;34m*\u001b[0m\u001b[0mextent\u001b[0m\u001b[0;34m)\u001b[0m\u001b[0;34m\u001b[0m\u001b[0;34m\u001b[0m\u001b[0m\n\u001b[0m\u001b[1;32m    689\u001b[0m \u001b[0;34m\u001b[0m\u001b[0m\n\u001b[1;32m    690\u001b[0m     vol = ipv.Volume(data_original = data,\n",
            "\u001b[0;31mTypeError\u001b[0m: _grow_limits() missing 1 required positional argument: 'z'"
          ]
        }
      ]
    }
  ]
}